{
 "cells": [
  {
   "cell_type": "code",
   "execution_count": 6,
   "metadata": {},
   "outputs": [
    {
     "name": "stdout",
     "output_type": "stream",
     "text": [
      "Descending Order: [100, 99, 89, 56]\n",
      "Ascending Order:  [56, 89, 99, 100]\n"
     ]
    }
   ],
   "source": [
    "#Question NO 1\n",
    "stu_names= {\n",
    "    'Ankur':100,\n",
    "    'rafin': 56,\n",
    "    'arshad': 89,\n",
    "    'md': 99\n",
    "}\n",
    "\n",
    "s = stu_names.values()\n",
    "print('Descending Order:',sorted(s,reverse=True))\n",
    "print('Ascending Order: ',sorted(s))"
   ]
  },
  {
   "cell_type": "code",
   "execution_count": 16,
   "metadata": {},
   "outputs": [
    {
     "data": {
      "text/plain": [
       "{'rafin': 56, 'arshad': 89, 'md': 99, 'Ankur': 100}"
      ]
     },
     "execution_count": 16,
     "metadata": {},
     "output_type": "execute_result"
    }
   ],
   "source": [
    "#Alternate Solution of Question NO 1\n",
    "stu_names= {\n",
    "    'Ankur':100,\n",
    "    'rafin': 56,\n",
    "    'arshad': 89,\n",
    "    'md': 99\n",
    "}\n",
    "s = sorted(stu_names.values())\n",
    "dic1 ={}\n",
    "for i in s:\n",
    "    for j in stu_names:\n",
    "        if i==stu_names[j]:\n",
    "            dic1[j]=stu_names[j]\n",
    "dic1"
   ]
  },
  {
   "cell_type": "code",
   "execution_count": 14,
   "metadata": {},
   "outputs": [
    {
     "data": {
      "text/plain": [
       "{0: 10, 1: 20, 2: 30}"
      ]
     },
     "execution_count": 14,
     "metadata": {},
     "output_type": "execute_result"
    }
   ],
   "source": [
    "#Question NO 2\n",
    "dict1 = {\n",
    "    0:10,\n",
    "    1:20\n",
    "}\n",
    "dict1[2]=30\n",
    "dict1"
   ]
  },
  {
   "cell_type": "code",
   "execution_count": 49,
   "metadata": {},
   "outputs": [
    {
     "data": {
      "text/plain": [
       "{1: 10, 2: 20, 3: 30, 4: 40, 5: 50, 6: 60}"
      ]
     },
     "execution_count": 49,
     "metadata": {},
     "output_type": "execute_result"
    }
   ],
   "source": [
    "#Question NO 3\n",
    "dic1={1:10, 2:20}\n",
    "dic2={3:30, 4:40}\n",
    "dic3={5:50,6:60}\n",
    "dic4 = {}\n",
    "for ob in (dic1,dic2,dic3,dic4):\n",
    "    dic4.update(ob)\n",
    "dic4"
   ]
  },
  {
   "cell_type": "code",
   "execution_count": 54,
   "metadata": {},
   "outputs": [
    {
     "name": "stdout",
     "output_type": "stream",
     "text": [
      "7\n",
      "not present\n"
     ]
    }
   ],
   "source": [
    "#Question NO 4\n",
    "d = {1: 10, 2: 20, 3: 30, 4: 40, 5: 50, 6: 60}\n",
    "k = d.keys()\n",
    "n = int(input())\n",
    "if n==i:\n",
    "    print('Present')\n",
    "else:\n",
    "    print('not present')"
   ]
  },
  {
   "cell_type": "code",
   "execution_count": 59,
   "metadata": {},
   "outputs": [
    {
     "name": "stdout",
     "output_type": "stream",
     "text": [
      "1 10\n",
      "2 20\n",
      "3 30\n",
      "4 40\n",
      "5 50\n",
      "6 60\n"
     ]
    }
   ],
   "source": [
    "#Question NO 5\n",
    "d = {1: 10, 2: 20, 3: 30, 4: 40, 5: 50, 6: 60}\n",
    "for k,v in d.items():\n",
    "    print(k,v)"
   ]
  },
  {
   "cell_type": "code",
   "execution_count": 61,
   "metadata": {},
   "outputs": [
    {
     "name": "stdout",
     "output_type": "stream",
     "text": [
      "5\n",
      "{1: 1, 2: 4, 3: 9, 4: 16, 5: 25}\n"
     ]
    }
   ],
   "source": [
    "#Question NO 6\n",
    "dic1= {}\n",
    "n = int(input())\n",
    "for i in range(1,n+1):\n",
    "    dic1.update({i:i*i})\n",
    "print(dic1)"
   ]
  },
  {
   "cell_type": "code",
   "execution_count": 62,
   "metadata": {},
   "outputs": [
    {
     "name": "stdout",
     "output_type": "stream",
     "text": [
      "15\n",
      "{1: 1, 2: 4, 3: 9, 4: 16, 5: 25, 6: 36, 7: 49, 8: 64, 9: 81, 10: 100, 11: 121, 12: 144, 13: 169, 14: 196, 15: 225}\n"
     ]
    }
   ],
   "source": [
    "#Question NO 7\n",
    "dic1= {}\n",
    "n = int(input())\n",
    "for i in range(1,n+1):\n",
    "    dic1.update({i:i**2})\n",
    "print(dic1)"
   ]
  },
  {
   "cell_type": "code",
   "execution_count": 63,
   "metadata": {},
   "outputs": [
    {
     "name": "stdout",
     "output_type": "stream",
     "text": [
      "{1: 10, 2: 20, 3: 30, 4: 40}\n"
     ]
    }
   ],
   "source": [
    "#Question NO 8\n",
    "dic1={1:10, 2:20}\n",
    "dic2={3:30, 4:40}\n",
    "dic3 ={}\n",
    "for i in dic1,dic2:\n",
    "    dic3.update(i)\n",
    "print(dic3)"
   ]
  },
  {
   "cell_type": "code",
   "execution_count": 64,
   "metadata": {},
   "outputs": [
    {
     "name": "stdout",
     "output_type": "stream",
     "text": [
      "{'a': 100, 'b': 200, 'x': 300, 'y': 200}\n"
     ]
    }
   ],
   "source": [
    "d1 = {'a': 100, 'b': 200}\n",
    "d2 = {'x': 300, 'y': 200}\n",
    "d = d1.copy()\n",
    "d.update(d2)\n",
    "print(d)"
   ]
  },
  {
   "cell_type": "code",
   "execution_count": 65,
   "metadata": {},
   "outputs": [],
   "source": [
    "#Question NO 9\n",
    "###### Same as Question NO 5"
   ]
  },
  {
   "cell_type": "code",
   "execution_count": 67,
   "metadata": {},
   "outputs": [
    {
     "name": "stdout",
     "output_type": "stream",
     "text": [
      "210\n"
     ]
    }
   ],
   "source": [
    "#Question NO 10\n",
    "d = {1: 10, 2: 20, 3: 30, 4: 40, 5: 50, 6: 60}\n",
    "s = sum(d.values())\n",
    "print(s)"
   ]
  },
  {
   "cell_type": "code",
   "execution_count": 27,
   "metadata": {},
   "outputs": [
    {
     "name": "stdout",
     "output_type": "stream",
     "text": [
      "1 10\n",
      "2 20\n",
      "3 30\n",
      "4 40\n",
      "5 50\n",
      "6 60\n",
      "720000000\n"
     ]
    }
   ],
   "source": [
    "#Question NO 11\n",
    "d = {1: 10, 2: 20, 3: 30, 4: 40, 5: 50, 6: 60}\n",
    "result =1\n",
    "for item in d:\n",
    "    print(item,d[item])\n",
    "    result = result*d[item]\n",
    "print(result)"
   ]
  },
  {
   "cell_type": "code",
   "execution_count": 25,
   "metadata": {},
   "outputs": [
    {
     "name": "stdout",
     "output_type": "stream",
     "text": [
      "{'a': 200, 'b': 400, 'c': 200, 'd': 120, 'f': 100}\n"
     ]
    }
   ],
   "source": [
    "#16 pore korabe\n",
    "\n",
    "#19\n",
    "d1 = {'a':100,'b':200,'c':100,'f':100}\n",
    "d2= {'a':100,'b':200,'c':100,'d':120}\n",
    "d3={}\n",
    "for i in d2:\n",
    "    if i in d1.keys():\n",
    "        d3[i]=d1[i]+d2[i]\n",
    "    else:\n",
    "        d3[i]=d2[i]\n",
    "for i in d1:\n",
    "    if i not in d2.keys():\n",
    "        d3[i]=d1[i]\n",
    "print(d3)"
   ]
  },
  {
   "cell_type": "code",
   "execution_count": 27,
   "metadata": {},
   "outputs": [
    {
     "name": "stdout",
     "output_type": "stream",
     "text": [
      "{'a': 200, 'b': 400, 'c': 200, 'f': 100, 'd': 120}\n"
     ]
    }
   ],
   "source": [
    "# 19 another approch\n",
    "from collections import Counter\n",
    "d1_cout = Counter(d1)\n",
    "d2_cout = Counter(d2)\n",
    "add = d1_cout+d2_cout\n",
    "print(dict(add))"
   ]
  },
  {
   "cell_type": "code",
   "execution_count": 9,
   "metadata": {},
   "outputs": [
    {
     "name": "stdout",
     "output_type": "stream",
     "text": [
      "bd\n",
      "bc\n",
      "ad\n",
      "ac\n"
     ]
    }
   ],
   "source": [
    "#21\n",
    "import itertools\n",
    "dict1 = {'1':{'a','b'},'2':{'c','d'}}\n",
    "dict_val = list(dict1.values())\n",
    "for i in itertools.product(*dict_val):\n",
    "    print(''.join(i))\n",
    "        "
   ]
  },
  {
   "cell_type": "code",
   "execution_count": 62,
   "metadata": {},
   "outputs": [
    {
     "name": "stdout",
     "output_type": "stream",
     "text": [
      "{'b': 5874, 'e': 5874, 'a': 600}\n"
     ]
    }
   ],
   "source": [
    "#22\n",
    "from collections import Counter\n",
    "my_dict = {'a':600, 'b':5874, 'c': 560,'d':400, 'e':5874, 'f': 20}\n",
    "count = Counter(my_dict)\n",
    "high = count.most_common(3)\n",
    "# print(high)\n",
    "dic = {}\n",
    "for i,j in high:\n",
    "    dic[i]=j\n",
    "print(dic)"
   ]
  },
  {
   "cell_type": "code",
   "execution_count": 61,
   "metadata": {},
   "outputs": [
    {
     "name": "stdout",
     "output_type": "stream",
     "text": [
      "{'a': 600, 'b': 5874, 'e': 5874}\n"
     ]
    }
   ],
   "source": [
    "#22 another way\n",
    "my_dict = {'a':600, 'b':5874, 'c': 560,'d':400, 'e':5874, 'f': 20}\n",
    "val = my_dict.values()\n",
    "s=sorted(val,reverse=True)[:3]\n",
    "dict1={}\n",
    "for i in my_dict:\n",
    "    for j in s:\n",
    "        if my_dict[i]==j:\n",
    "            dict1[i]=j\n",
    "print(dict1)            "
   ]
  },
  {
   "cell_type": "code",
   "execution_count": 44,
   "metadata": {},
   "outputs": [
    {
     "name": "stdout",
     "output_type": "stream",
     "text": [
      "600\n",
      "5874\n",
      "560\n",
      "400\n",
      "5874\n",
      "20\n"
     ]
    }
   ],
   "source": [
    "for i in my_dict:\n",
    "    print(my_dict[i])"
   ]
  }
 ],
 "metadata": {
  "kernelspec": {
   "display_name": "Python 3",
   "language": "python",
   "name": "python3"
  },
  "language_info": {
   "codemirror_mode": {
    "name": "ipython",
    "version": 3
   },
   "file_extension": ".py",
   "mimetype": "text/x-python",
   "name": "python",
   "nbconvert_exporter": "python",
   "pygments_lexer": "ipython3",
   "version": "3.8.5"
  },
  "toc": {
   "base_numbering": 1,
   "nav_menu": {
    "height": "93px",
    "width": "169px"
   },
   "number_sections": true,
   "sideBar": true,
   "skip_h1_title": false,
   "title_cell": "Table of Contents",
   "title_sidebar": "Contents",
   "toc_cell": false,
   "toc_position": {},
   "toc_section_display": true,
   "toc_window_display": false
  }
 },
 "nbformat": 4,
 "nbformat_minor": 4
}
