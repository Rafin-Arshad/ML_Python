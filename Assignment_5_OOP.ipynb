{
 "cells": [
  {
   "cell_type": "markdown",
   "metadata": {},
   "source": [
    "### Function"
   ]
  },
  {
   "cell_type": "markdown",
   "metadata": {},
   "source": [
    "#### do sumation using function"
   ]
  },
  {
   "cell_type": "code",
   "execution_count": 1,
   "metadata": {},
   "outputs": [
    {
     "name": "stdout",
     "output_type": "stream",
     "text": [
      "Enter number 1:10\n",
      "Enter number 2:20\n",
      "30\n"
     ]
    }
   ],
   "source": [
    "def addition(num1, num2):\n",
    "    sumation = num1+num2\n",
    "    print(sumation)\n",
    "    \n",
    "n1 = int(input(\"Enter number 1:\"))\n",
    "n2 = int(input('Enter number 2:'))\n",
    "addition(n1,n2)"
   ]
  },
  {
   "cell_type": "markdown",
   "metadata": {},
   "source": [
    "#### return a result using function"
   ]
  },
  {
   "cell_type": "code",
   "execution_count": 3,
   "metadata": {},
   "outputs": [
    {
     "name": "stdout",
     "output_type": "stream",
     "text": [
      "Enter number 1:10\n",
      "Enter number 2:20\n",
      "Summation: 30\n"
     ]
    }
   ],
   "source": [
    "def add(n1,n2):\n",
    "    return n1+n2\n",
    "n1 = int(input(\"Enter number 1:\"))\n",
    "n2 = int(input('Enter number 2:'))\n",
    "print('Summation:',add(n1,n2))"
   ]
  },
  {
   "cell_type": "markdown",
   "metadata": {},
   "source": [
    "### String inbuilt library"
   ]
  },
  {
   "cell_type": "code",
   "execution_count": 28,
   "metadata": {},
   "outputs": [
    {
     "data": {
      "text/plain": [
       "True"
      ]
     },
     "execution_count": 28,
     "metadata": {},
     "output_type": "execute_result"
    }
   ],
   "source": [
    "string = 'Ankur'\n",
    "string.isalpha()"
   ]
  },
  {
   "cell_type": "code",
   "execution_count": 29,
   "metadata": {},
   "outputs": [
    {
     "data": {
      "text/plain": [
       "False"
      ]
     },
     "execution_count": 29,
     "metadata": {},
     "output_type": "execute_result"
    }
   ],
   "source": [
    "string.isdigit()"
   ]
  },
  {
   "cell_type": "code",
   "execution_count": 30,
   "metadata": {},
   "outputs": [
    {
     "data": {
      "text/plain": [
       "True"
      ]
     },
     "execution_count": 30,
     "metadata": {},
     "output_type": "execute_result"
    }
   ],
   "source": [
    "string[0].isalpha()"
   ]
  },
  {
   "cell_type": "code",
   "execution_count": 34,
   "metadata": {},
   "outputs": [
    {
     "data": {
      "text/plain": [
       "True"
      ]
     },
     "execution_count": 34,
     "metadata": {},
     "output_type": "execute_result"
    }
   ],
   "source": [
    "string.startswith('A')"
   ]
  },
  {
   "cell_type": "code",
   "execution_count": 35,
   "metadata": {},
   "outputs": [
    {
     "data": {
      "text/plain": [
       "True"
      ]
     },
     "execution_count": 35,
     "metadata": {},
     "output_type": "execute_result"
    }
   ],
   "source": [
    "string.endswith('r')"
   ]
  },
  {
   "cell_type": "code",
   "execution_count": 38,
   "metadata": {},
   "outputs": [],
   "source": [
    "st = 'rafin'"
   ]
  },
  {
   "cell_type": "code",
   "execution_count": 39,
   "metadata": {},
   "outputs": [
    {
     "data": {
      "text/plain": [
       "'Rafin'"
      ]
     },
     "execution_count": 39,
     "metadata": {},
     "output_type": "execute_result"
    }
   ],
   "source": [
    "st.capitalize()"
   ]
  },
  {
   "cell_type": "code",
   "execution_count": 41,
   "metadata": {},
   "outputs": [
    {
     "data": {
      "text/plain": [
       "'Ankur likes Mango'"
      ]
     },
     "execution_count": 41,
     "metadata": {},
     "output_type": "execute_result"
    }
   ],
   "source": [
    "from string import Template\n",
    "st = Template('$who likes $what')\n",
    "st.substitute(who='Ankur', what='Mango')"
   ]
  },
  {
   "cell_type": "markdown",
   "metadata": {},
   "source": [
    "#### titeling the string without using any library"
   ]
  },
  {
   "cell_type": "code",
   "execution_count": 23,
   "metadata": {},
   "outputs": [
    {
     "name": "stdout",
     "output_type": "stream",
     "text": [
      "' Love My Country '\n"
     ]
    }
   ],
   "source": [
    "s = 'love my country'\n",
    "words=s.split(\" \")\n",
    "# print(words)\n",
    "out=' '\n",
    "for i in words:\n",
    "    for j in i:\n",
    "        char = j.upper()\n",
    "#         print(char)\n",
    "        break\n",
    "    char1 = i[1:]\n",
    "#     print(char1)\n",
    "#     break\n",
    "    out += (char+char1)+' '\n",
    "print(f\"'{out}'\")"
   ]
  },
  {
   "cell_type": "code",
   "execution_count": 25,
   "metadata": {},
   "outputs": [
    {
     "name": "stdout",
     "output_type": "stream",
     "text": [
      "Love My Country\n"
     ]
    }
   ],
   "source": [
    "list1=[]\n",
    "for i in words:\n",
    "    for j in i:\n",
    "        c = j.upper()\n",
    "        break\n",
    "    c2 = i[1:]\n",
    "    c3 = c+c2\n",
    "    list1.append(c3)\n",
    "# print(list1)\n",
    "list1 = \" \".join(list1)\n"
   ]
  },
  {
   "cell_type": "code",
   "execution_count": 27,
   "metadata": {},
   "outputs": [
    {
     "data": {
      "text/plain": [
       "'Love My Country'"
      ]
     },
     "execution_count": 27,
     "metadata": {},
     "output_type": "execute_result"
    }
   ],
   "source": [
    "list1"
   ]
  },
  {
   "cell_type": "markdown",
   "metadata": {},
   "source": [
    "#### using title function for above program"
   ]
  },
  {
   "cell_type": "code",
   "execution_count": 28,
   "metadata": {},
   "outputs": [
    {
     "data": {
      "text/plain": [
       "'Love My Country'"
      ]
     },
     "execution_count": 28,
     "metadata": {},
     "output_type": "execute_result"
    }
   ],
   "source": [
    "s.title()"
   ]
  },
  {
   "cell_type": "markdown",
   "metadata": {},
   "source": [
    "#### find function"
   ]
  },
  {
   "cell_type": "code",
   "execution_count": 30,
   "metadata": {},
   "outputs": [
    {
     "name": "stdout",
     "output_type": "stream",
     "text": [
      "yes\n"
     ]
    }
   ],
   "source": [
    "if s.find('Love'):\n",
    "    print(\"yes\")"
   ]
  },
  {
   "cell_type": "markdown",
   "metadata": {},
   "source": [
    "#### try catch"
   ]
  },
  {
   "cell_type": "code",
   "execution_count": 31,
   "metadata": {},
   "outputs": [
    {
     "name": "stdout",
     "output_type": "stream",
     "text": [
      "Not Present\n"
     ]
    }
   ],
   "source": [
    "try:\n",
    "    s.index('z')\n",
    "except:\n",
    "    print('Not Present')"
   ]
  },
  {
   "cell_type": "markdown",
   "metadata": {},
   "source": [
    "### Object Oriented Programming"
   ]
  },
  {
   "cell_type": "markdown",
   "metadata": {},
   "source": [
    "#### class and object"
   ]
  },
  {
   "cell_type": "code",
   "execution_count": 8,
   "metadata": {},
   "outputs": [
    {
     "name": "stdout",
     "output_type": "stream",
     "text": [
      "9\n"
     ]
    }
   ],
   "source": [
    "class Square:\n",
    "    def square_func(self,n):   #when we created function into the class then we shold mention self in the perameter in function\n",
    "        return n**2\n",
    "    \n",
    "#creating Square object\n",
    "square_obj = Square()\n",
    "#calling the object function or class function\n",
    "result=square_obj.square_func(3)\n",
    "print(result)"
   ]
  },
  {
   "cell_type": "code",
   "execution_count": 10,
   "metadata": {},
   "outputs": [
    {
     "name": "stdout",
     "output_type": "stream",
     "text": [
      "Result1: 9 and Result2: 256\n"
     ]
    }
   ],
   "source": [
    "class Square:\n",
    "    def square(self, n):\n",
    "        return n**2\n",
    "    def square_square(self, n):\n",
    "        n1 = n**2\n",
    "        n2 = n1**2\n",
    "        return(n2)\n",
    "\n",
    "square_obj = Square()\n",
    "result1 = square_obj.square(3)\n",
    "result2 = square_obj.square_square(4)\n",
    "print(f'Result1: {result1} and Result2: {result2}')"
   ]
  },
  {
   "cell_type": "markdown",
   "metadata": {},
   "source": [
    "##### calling function in another function when using class"
   ]
  },
  {
   "cell_type": "code",
   "execution_count": 19,
   "metadata": {},
   "outputs": [
    {
     "name": "stdout",
     "output_type": "stream",
     "text": [
      "Result1: 9 and Result2: 81\n"
     ]
    }
   ],
   "source": [
    "class Square:\n",
    "    def square(self, n):\n",
    "        return n**2\n",
    "    def square_square(self,n):\n",
    "        n1 =self.square(n)   # when calling function we have to use self\n",
    "        n2 = n1**2\n",
    "        return(n2)\n",
    "\n",
    "square_obj = Square()\n",
    "result1 = square_obj.square(3)\n",
    "result2 = square_obj.square_square(3)\n",
    "print(f'Result1: {result1} and Result2: {result2}')"
   ]
  },
  {
   "cell_type": "markdown",
   "metadata": {},
   "source": [
    "### Default Constructor\n",
    "##### when we dose not use default constructor  program will run also see in above program there are no constructor "
   ]
  },
  {
   "cell_type": "code",
   "execution_count": 21,
   "metadata": {},
   "outputs": [
    {
     "name": "stdout",
     "output_type": "stream",
     "text": [
      "Starting Class\n",
      "Into the Class\n",
      "25\n",
      "Ending the Class\n"
     ]
    }
   ],
   "source": [
    "print('Starting Class')\n",
    "class Constructor:\n",
    "    def __init__(self,number):\n",
    "        print('Into the Class')\n",
    "        print(number**2)\n",
    "        \n",
    "obj = Constructor(5)        \n",
    "print('Ending the Class')"
   ]
  },
  {
   "cell_type": "markdown",
   "metadata": {},
   "source": [
    "#### using one function object into another in a same class"
   ]
  },
  {
   "cell_type": "code",
   "execution_count": 24,
   "metadata": {},
   "outputs": [
    {
     "name": "stdout",
     "output_type": "stream",
     "text": [
      "Ankur 70 Rafin\n"
     ]
    }
   ],
   "source": [
    "class Student_info:\n",
    "    def __init__(self):\n",
    "        self.name = 'Ankur'\n",
    "        self.roll = 70\n",
    "        name = 'Rafin'\n",
    "        print(self.name,self.roll, name)\n",
    "\n",
    "        \n",
    "stu_obj= Student_info()"
   ]
  },
  {
   "cell_type": "code",
   "execution_count": 25,
   "metadata": {},
   "outputs": [
    {
     "name": "stdout",
     "output_type": "stream",
     "text": [
      "Rafin\n"
     ]
    }
   ],
   "source": [
    "class Student_info:\n",
    "    def __init__(self):\n",
    "        self.name = 'Ankur'\n",
    "        self.roll = 70\n",
    "        name = 'Rafin'\n",
    "        print(name)\n",
    "    \n",
    "    def student1(self):\n",
    "        print(self.name, self.roll)\n",
    "\n",
    "        \n",
    "stu_obj= Student_info()"
   ]
  },
  {
   "cell_type": "code",
   "execution_count": 26,
   "metadata": {},
   "outputs": [
    {
     "name": "stdout",
     "output_type": "stream",
     "text": [
      "Ankur 70\n"
     ]
    }
   ],
   "source": [
    "stu_obj.student1()"
   ]
  },
  {
   "cell_type": "markdown",
   "metadata": {},
   "source": [
    "## Method"
   ]
  },
  {
   "cell_type": "code",
   "execution_count": 33,
   "metadata": {},
   "outputs": [
    {
     "name": "stdout",
     "output_type": "stream",
     "text": [
      "TATA 100000\n"
     ]
    }
   ],
   "source": [
    "class Car:\n",
    "    #instance Attribute\n",
    "    def __init__(self, model, price):\n",
    "        self.model=model  # instance Attribute\n",
    "        self.price=price  # instance Attribute\n",
    "    def car(self):\n",
    "        print(self.model,self.price)\n",
    "\n",
    "c1 = Car('TATA',100000)\n",
    "# in bellow calling car() method that are in the class\n",
    "c1.car()"
   ]
  },
  {
   "cell_type": "code",
   "execution_count": 34,
   "metadata": {},
   "outputs": [
    {
     "name": "stdout",
     "output_type": "stream",
     "text": [
      "('TATA', 100000)\n"
     ]
    }
   ],
   "source": [
    "# another way\n",
    "class Car:\n",
    "    def __init__(self, model, price):\n",
    "        self.model=model\n",
    "        self.price=price\n",
    "    def car(self):\n",
    "          return (self.model,self.price)\n",
    "\n",
    "c1 = Car('TATA',100000)\n",
    "# printing method\n",
    "print(c1.car())"
   ]
  },
  {
   "cell_type": "markdown",
   "metadata": {},
   "source": [
    "## Inheritance"
   ]
  },
  {
   "cell_type": "code",
   "execution_count": 1,
   "metadata": {},
   "outputs": [],
   "source": [
    "# inheritance have base class that are inherited by subclass\n",
    "class Animal:\n",
    "    def speak(self):\n",
    "        print('Animal can Speak')\n",
    "        \n",
    "#Animal Base class and Dog subclass that are inherited base class\n",
    "class Dog(Animal):\n",
    "    def berk(self):\n",
    "        print('Dog Can Berk')\n",
    "        \n",
    "d3 = Dog()"
   ]
  },
  {
   "cell_type": "code",
   "execution_count": 5,
   "metadata": {},
   "outputs": [
    {
     "name": "stdout",
     "output_type": "stream",
     "text": [
      "Dog Can Berk\n"
     ]
    }
   ],
   "source": [
    "d3.berk()"
   ]
  },
  {
   "cell_type": "code",
   "execution_count": 6,
   "metadata": {},
   "outputs": [
    {
     "name": "stdout",
     "output_type": "stream",
     "text": [
      "Animal can Speak\n"
     ]
    }
   ],
   "source": [
    "d3.speak()"
   ]
  },
  {
   "cell_type": "code",
   "execution_count": 8,
   "metadata": {},
   "outputs": [
    {
     "ename": "NameError",
     "evalue": "name 'd1' is not defined",
     "output_type": "error",
     "traceback": [
      "\u001b[1;31m---------------------------------------------------------------------------\u001b[0m",
      "\u001b[1;31mNameError\u001b[0m                                 Traceback (most recent call last)",
      "\u001b[1;32m<ipython-input-8-13648560cca9>\u001b[0m in \u001b[0;36m<module>\u001b[1;34m\u001b[0m\n\u001b[1;32m----> 1\u001b[1;33m \u001b[0md1\u001b[0m\u001b[1;33m.\u001b[0m\u001b[0mspeak\u001b[0m\u001b[1;33m(\u001b[0m\u001b[1;33m)\u001b[0m\u001b[1;33m\u001b[0m\u001b[1;33m\u001b[0m\u001b[0m\n\u001b[0m\u001b[0;32m      2\u001b[0m \u001b[1;31m# d1 object is not defined in above\u001b[0m\u001b[1;33m\u001b[0m\u001b[1;33m\u001b[0m\u001b[1;33m\u001b[0m\u001b[0m\n",
      "\u001b[1;31mNameError\u001b[0m: name 'd1' is not defined"
     ]
    }
   ],
   "source": [
    "d1.speak()\n",
    "# d1 object is not defined in above"
   ]
  },
  {
   "cell_type": "markdown",
   "metadata": {},
   "source": [
    "### Multi-Level Inheritance"
   ]
  },
  {
   "cell_type": "code",
   "execution_count": 14,
   "metadata": {},
   "outputs": [],
   "source": [
    "class Animal:\n",
    "    def speak(self):\n",
    "        print('IN Animal Class')\n",
    "class Dog(Animal):\n",
    "    def talk(self):\n",
    "        print('in Dog Class and Inherited speak from Animal Class')\n",
    "        \n",
    "class Eat(Dog):\n",
    "    def eat(self):\n",
    "        print('In Eat Class')\n",
    "        print('Inherited Dog and Animal Class')\n",
    "\n",
    "animal1 = Eat()"
   ]
  },
  {
   "cell_type": "code",
   "execution_count": 10,
   "metadata": {},
   "outputs": [
    {
     "name": "stdout",
     "output_type": "stream",
     "text": [
      "in Dog Class and Inherited speak from Animal Class\n"
     ]
    }
   ],
   "source": [
    "animal1.talk()"
   ]
  },
  {
   "cell_type": "code",
   "execution_count": 11,
   "metadata": {},
   "outputs": [
    {
     "name": "stdout",
     "output_type": "stream",
     "text": [
      "IN Animal Class\n"
     ]
    }
   ],
   "source": [
    "animal1.speak()"
   ]
  },
  {
   "cell_type": "code",
   "execution_count": 12,
   "metadata": {},
   "outputs": [
    {
     "name": "stdout",
     "output_type": "stream",
     "text": [
      "In Eat Class\n",
      "Inherited Dog and Animal Class\n"
     ]
    }
   ],
   "source": [
    "animal1.eat()"
   ]
  },
  {
   "cell_type": "markdown",
   "metadata": {},
   "source": [
    "### Multiple Inheritance"
   ]
  },
  {
   "cell_type": "code",
   "execution_count": 23,
   "metadata": {},
   "outputs": [],
   "source": [
    "# many base classes and one subclass that are inherited all base classes\n",
    "class Car:\n",
    "    def car_display(self):\n",
    "        print('CAR')\n",
    "        \n",
    "class Bike:\n",
    "    def bike_display(self):\n",
    "        print('BIKE')\n",
    "        \n",
    "class Cycle:\n",
    "    def cycle_display(self):\n",
    "        print('Cycle')\n",
    "\n",
    "class Vhicle(Car,Bike,Cycle):\n",
    "    def vhicle_display(self):\n",
    "        print(\"Vhicle Class\")\n",
    "        \n",
    "# creating Vichle object\n",
    "v1 = Vhicle()      "
   ]
  },
  {
   "cell_type": "code",
   "execution_count": 3,
   "metadata": {},
   "outputs": [
    {
     "name": "stdout",
     "output_type": "stream",
     "text": [
      "CAR\n"
     ]
    }
   ],
   "source": [
    "v1.car_display()"
   ]
  },
  {
   "cell_type": "code",
   "execution_count": 4,
   "metadata": {},
   "outputs": [
    {
     "name": "stdout",
     "output_type": "stream",
     "text": [
      "BIKE\n"
     ]
    }
   ],
   "source": [
    "v1.bike_display()"
   ]
  },
  {
   "cell_type": "code",
   "execution_count": 5,
   "metadata": {},
   "outputs": [
    {
     "name": "stdout",
     "output_type": "stream",
     "text": [
      "Vhicle Class\n"
     ]
    }
   ],
   "source": [
    "v1.vhicle_display()"
   ]
  },
  {
   "cell_type": "code",
   "execution_count": 6,
   "metadata": {},
   "outputs": [
    {
     "name": "stdout",
     "output_type": "stream",
     "text": [
      "Cycle\n"
     ]
    }
   ],
   "source": [
    "v1.cycle_display()"
   ]
  },
  {
   "cell_type": "code",
   "execution_count": 7,
   "metadata": {},
   "outputs": [],
   "source": [
    "# in above i can access all Base class function using a sub class multiple inheritenc"
   ]
  },
  {
   "cell_type": "code",
   "execution_count": 9,
   "metadata": {},
   "outputs": [
    {
     "name": "stdout",
     "output_type": "stream",
     "text": [
      "Summation and Division and Multiplication:\n",
      "33\n",
      "4.545454545454546\n",
      "9\n"
     ]
    }
   ],
   "source": [
    "#------------ summation, division, multiplication------using multiple inheritance\n",
    "class Summation:\n",
    "    def sumi(self,a,b):\n",
    "        return a+b\n",
    "    \n",
    "class Division:\n",
    "    def div(self,a,b):\n",
    "        return a/b\n",
    "    \n",
    "class Multiplication:\n",
    "    def mul(self,a,b):\n",
    "        return a*b\n",
    "    \n",
    "class Total(Summation,Division,Multiplication):\n",
    "    print('Summation and Division and Multiplication:')\n",
    "\n",
    "d1 = Total()\n",
    "print(d1.sumi(10,23))\n",
    "print(d1.div(50,11))\n",
    "print(d1.mul(3,3))"
   ]
  },
  {
   "cell_type": "markdown",
   "metadata": {},
   "source": [
    "#### issubclass() checking is it in a base class or not"
   ]
  },
  {
   "cell_type": "code",
   "execution_count": 10,
   "metadata": {},
   "outputs": [
    {
     "name": "stdout",
     "output_type": "stream",
     "text": [
      "True\n",
      "False\n"
     ]
    }
   ],
   "source": [
    "print(issubclass(Total,Summation))\n",
    "print(issubclass(Division,Total))"
   ]
  },
  {
   "cell_type": "code",
   "execution_count": 12,
   "metadata": {},
   "outputs": [
    {
     "name": "stdout",
     "output_type": "stream",
     "text": [
      "True\n"
     ]
    }
   ],
   "source": [
    "print(issubclass(Total, Multiplication))"
   ]
  },
  {
   "cell_type": "code",
   "execution_count": 13,
   "metadata": {},
   "outputs": [
    {
     "name": "stdout",
     "output_type": "stream",
     "text": [
      "False\n"
     ]
    }
   ],
   "source": [
    "print(issubclass(Summation,Division))"
   ]
  },
  {
   "cell_type": "code",
   "execution_count": 15,
   "metadata": {},
   "outputs": [
    {
     "name": "stdout",
     "output_type": "stream",
     "text": [
      "True\n"
     ]
    }
   ],
   "source": [
    "print(issubclass(Dog, Animal))"
   ]
  },
  {
   "cell_type": "markdown",
   "metadata": {},
   "source": [
    "### isinstance() checking object instance means object"
   ]
  },
  {
   "cell_type": "code",
   "execution_count": 16,
   "metadata": {},
   "outputs": [
    {
     "name": "stdout",
     "output_type": "stream",
     "text": [
      "True\n"
     ]
    }
   ],
   "source": [
    "print(isinstance(d1,Total))"
   ]
  },
  {
   "cell_type": "code",
   "execution_count": 17,
   "metadata": {},
   "outputs": [
    {
     "name": "stdout",
     "output_type": "stream",
     "text": [
      "True\n"
     ]
    }
   ],
   "source": [
    "print(isinstance(animal1,Animal))"
   ]
  },
  {
   "cell_type": "code",
   "execution_count": 18,
   "metadata": {},
   "outputs": [
    {
     "name": "stdout",
     "output_type": "stream",
     "text": [
      "True\n"
     ]
    }
   ],
   "source": [
    "print(isinstance(animal1,Dog))"
   ]
  },
  {
   "cell_type": "code",
   "execution_count": 19,
   "metadata": {},
   "outputs": [
    {
     "name": "stdout",
     "output_type": "stream",
     "text": [
      "True\n"
     ]
    }
   ],
   "source": [
    "print(isinstance(d1, Summation))"
   ]
  },
  {
   "cell_type": "code",
   "execution_count": 24,
   "metadata": {},
   "outputs": [
    {
     "name": "stdout",
     "output_type": "stream",
     "text": [
      "True\n"
     ]
    }
   ],
   "source": [
    "print(isinstance(v1,Car))"
   ]
  },
  {
   "cell_type": "markdown",
   "metadata": {},
   "source": [
    "### Method Overriding`"
   ]
  },
  {
   "cell_type": "code",
   "execution_count": 28,
   "metadata": {},
   "outputs": [],
   "source": [
    "class Animal:\n",
    "    def eat(self):\n",
    "        print('Animal Eat')\n",
    "\n",
    "class Dog(Animal):\n",
    "    def eat(self):\n",
    "        print('Dog Eat')\n",
    "d= Dog()"
   ]
  },
  {
   "cell_type": "code",
   "execution_count": 29,
   "metadata": {},
   "outputs": [
    {
     "name": "stdout",
     "output_type": "stream",
     "text": [
      "Dog Eat\n"
     ]
    }
   ],
   "source": [
    "d.eat()"
   ]
  },
  {
   "cell_type": "code",
   "execution_count": 30,
   "metadata": {},
   "outputs": [],
   "source": [
    "class Vichle:\n",
    "    def takes(self):\n",
    "        print(\"Vichle's have Tyers\")\n",
    "        \n",
    "class Car(Vichle):\n",
    "    def takes(self):\n",
    "        print('Car takes Oil')\n",
    "\n",
    "class Cycle(Vichle):\n",
    "    def takes(self):\n",
    "        print('Cycle have two Tyers')\n",
    "        \n",
    "        \n",
    "v=Cycle()"
   ]
  },
  {
   "cell_type": "code",
   "execution_count": 31,
   "metadata": {},
   "outputs": [
    {
     "name": "stdout",
     "output_type": "stream",
     "text": [
      "Cycle have two Tyers\n"
     ]
    }
   ],
   "source": [
    "v.takes()"
   ]
  },
  {
   "cell_type": "code",
   "execution_count": 32,
   "metadata": {},
   "outputs": [
    {
     "name": "stdout",
     "output_type": "stream",
     "text": [
      "Vichle's have Tyers\n"
     ]
    }
   ],
   "source": [
    "v2 = Vichle()\n",
    "v2.takes()"
   ]
  },
  {
   "cell_type": "code",
   "execution_count": 33,
   "metadata": {},
   "outputs": [
    {
     "name": "stdout",
     "output_type": "stream",
     "text": [
      "Car takes Oil\n"
     ]
    }
   ],
   "source": [
    "v3= Car()\n",
    "v3.takes()"
   ]
  },
  {
   "cell_type": "code",
   "execution_count": 34,
   "metadata": {},
   "outputs": [],
   "source": [
    "class Addition:\n",
    "    def total(self, a,b):\n",
    "        return a+b\n",
    "    \n",
    "class Divisition(Addition):\n",
    "    def total(self,a,b):\n",
    "        return a//b\n",
    "    \n",
    "class Multiplication(Division):\n",
    "    def total(self,a,b):\n",
    "        return a*b\n",
    "    \n",
    "t = Multiplication()"
   ]
  },
  {
   "cell_type": "code",
   "execution_count": 35,
   "metadata": {},
   "outputs": [
    {
     "data": {
      "text/plain": [
       "20"
      ]
     },
     "execution_count": 35,
     "metadata": {},
     "output_type": "execute_result"
    }
   ],
   "source": [
    "t.total(10,2)"
   ]
  },
  {
   "cell_type": "code",
   "execution_count": 40,
   "metadata": {},
   "outputs": [
    {
     "data": {
      "text/plain": [
       "7.5"
      ]
     },
     "execution_count": 40,
     "metadata": {},
     "output_type": "execute_result"
    }
   ],
   "source": [
    "t2 = Divisition()\n",
    "t2.total(15,2)"
   ]
  },
  {
   "cell_type": "code",
   "execution_count": 41,
   "metadata": {},
   "outputs": [
    {
     "data": {
      "text/plain": [
       "70"
      ]
     },
     "execution_count": 41,
     "metadata": {},
     "output_type": "execute_result"
    }
   ],
   "source": [
    "t3 = Addition()\n",
    "t3.total(15,55)"
   ]
  },
  {
   "cell_type": "markdown",
   "metadata": {},
   "source": [
    "#### Super keyword\n",
    "##### when we need something from base class then we can use super() keyword.base class function() then we can get it"
   ]
  },
  {
   "cell_type": "code",
   "execution_count": 53,
   "metadata": {},
   "outputs": [
    {
     "name": "stdout",
     "output_type": "stream",
     "text": [
      "This a Bird\n",
      "Parrot is a Bird also\n",
      "Parrot\n",
      "Fly\n",
      "Can Sing\n"
     ]
    }
   ],
   "source": [
    "class Bird:\n",
    "    def __init__(self):\n",
    "        print('This a Bird')\n",
    "        \n",
    "    def whoisThis(self):\n",
    "        print('Bird')\n",
    "        \n",
    "    def whatisDo(self):\n",
    "        print('Fly')\n",
    "        \n",
    "class Parrot(Bird):\n",
    "    def __init__(self):\n",
    "        super().__init__()\n",
    "        print('Parrot is a Bird also')\n",
    "        \n",
    "    def whoisThis(self):\n",
    "        print('Parrot')\n",
    "        \n",
    "    def whatisDo(self):\n",
    "        super().whatisDo()\n",
    "        print('Can Sing')\n",
    "        \n",
    "papi = Parrot()\n",
    "papi.whoisThis()\n",
    "papi.whatisDo()"
   ]
  },
  {
   "cell_type": "markdown",
   "metadata": {},
   "source": [
    "### Data Abstraction"
   ]
  },
  {
   "cell_type": "code",
   "execution_count": 44,
   "metadata": {},
   "outputs": [],
   "source": [
    "## data abstraction means that we can not change any thing in the code as python respective\n",
    "\n",
    "# OOP- (object Oriented Programming) Four main themes are:\n",
    "# 1. Inheritance, 2. Encapsulation, 3. Polymorphism, 4. Data Abstraction"
   ]
  },
  {
   "cell_type": "markdown",
   "metadata": {},
   "source": [
    "##### Class Attribute"
   ]
  },
  {
   "cell_type": "code",
   "execution_count": 45,
   "metadata": {},
   "outputs": [
    {
     "data": {
      "text/plain": [
       "10"
      ]
     },
     "execution_count": 45,
     "metadata": {},
     "output_type": "execute_result"
    }
   ],
   "source": [
    "class square:\n",
    "    #class Attribute\n",
    "    cube = 10\n",
    "    \n",
    "    #instance Method also we can say behaviour\n",
    "    def sq(self,a):\n",
    "        return a**2\n",
    "    \n",
    "c = square()\n",
    "c.cube"
   ]
  },
  {
   "cell_type": "code",
   "execution_count": 46,
   "metadata": {},
   "outputs": [
    {
     "data": {
      "text/plain": [
       "4"
      ]
     },
     "execution_count": 46,
     "metadata": {},
     "output_type": "execute_result"
    }
   ],
   "source": [
    "c.sq(2)"
   ]
  },
  {
   "cell_type": "code",
   "execution_count": 47,
   "metadata": {},
   "outputs": [],
   "source": [
    "class Employee:\n",
    "    __count = 0\n",
    "    def __init__(self):\n",
    "        Employee.__count+=1\n",
    "        \n",
    "    def display(self):\n",
    "        print(f\"The Number of Employees : {Employee.__count}\")\n",
    "\n",
    "emp = Employee()\n",
    "emp2 = Employee()\n",
    "emp3 = Employee()"
   ]
  },
  {
   "cell_type": "code",
   "execution_count": 48,
   "metadata": {},
   "outputs": [
    {
     "name": "stdout",
     "output_type": "stream",
     "text": [
      "The Number of Employees : 3\n"
     ]
    }
   ],
   "source": [
    "emp.display()"
   ]
  },
  {
   "cell_type": "code",
   "execution_count": 49,
   "metadata": {},
   "outputs": [
    {
     "ename": "AttributeError",
     "evalue": "type object 'Employee' has no attribute '__count'",
     "output_type": "error",
     "traceback": [
      "\u001b[1;31m---------------------------------------------------------------------------\u001b[0m",
      "\u001b[1;31mAttributeError\u001b[0m                            Traceback (most recent call last)",
      "\u001b[1;32m<ipython-input-49-33732cff2473>\u001b[0m in \u001b[0;36m<module>\u001b[1;34m\u001b[0m\n\u001b[1;32m----> 1\u001b[1;33m \u001b[0mprint\u001b[0m\u001b[1;33m(\u001b[0m\u001b[0mEmployee\u001b[0m\u001b[1;33m.\u001b[0m\u001b[0m__count\u001b[0m\u001b[1;33m)\u001b[0m\u001b[1;33m\u001b[0m\u001b[1;33m\u001b[0m\u001b[0m\n\u001b[0m",
      "\u001b[1;31mAttributeError\u001b[0m: type object 'Employee' has no attribute '__count'"
     ]
    }
   ],
   "source": [
    "print(Employee.__count)"
   ]
  },
  {
   "cell_type": "code",
   "execution_count": 50,
   "metadata": {},
   "outputs": [
    {
     "name": "stdout",
     "output_type": "stream",
     "text": [
      "The Number of Employees : 3\n"
     ]
    }
   ],
   "source": [
    "emp3.display()"
   ]
  },
  {
   "cell_type": "markdown",
   "metadata": {},
   "source": [
    "## Encapsulation\n",
    "##### we can prevent change from outside using encapsulation"
   ]
  },
  {
   "cell_type": "code",
   "execution_count": 1,
   "metadata": {},
   "outputs": [],
   "source": [
    "class Price:\n",
    "    def __init__(self):\n",
    "        self.__maxprice = 90\n",
    "    \n",
    "    def sell(self):\n",
    "        print(f\"Selling Price: {self.__maxprice}\")\n",
    "        \n",
    "    def setMaxPrice(self,price):\n",
    "        self.__maxprice= price\n",
    "\n",
    "sp = Price()"
   ]
  },
  {
   "cell_type": "code",
   "execution_count": 2,
   "metadata": {},
   "outputs": [
    {
     "name": "stdout",
     "output_type": "stream",
     "text": [
      "Selling Price: 90\n"
     ]
    }
   ],
   "source": [
    "## if we change encapsulated value by the class object but the value can not be change because it's encapsulated\n",
    "sp.__maxprice = 100\n",
    "sp.sell()"
   ]
  },
  {
   "cell_type": "code",
   "execution_count": 3,
   "metadata": {},
   "outputs": [
    {
     "name": "stdout",
     "output_type": "stream",
     "text": [
      "Selling Price: 100\n"
     ]
    }
   ],
   "source": [
    "# we can change the value using setter option that makes to set encapsulated value\n",
    "sp.setMaxPrice(100)\n",
    "sp.sell()"
   ]
  },
  {
   "cell_type": "markdown",
   "metadata": {},
   "source": [
    "## Polymorphism"
   ]
  },
  {
   "cell_type": "code",
   "execution_count": 5,
   "metadata": {},
   "outputs": [],
   "source": [
    "class Car:\n",
    "    def details(self):\n",
    "        print(\"This is a Car\")\n",
    "        \n",
    "    def work(self):\n",
    "        print(\"Car run on road\")\n",
    "        \n",
    "class Airplane:\n",
    "    def details(self):\n",
    "        print(\"This is a Airplane\")\n",
    "        \n",
    "    def work(self):\n",
    "        print(\"Airplane can Fly\")"
   ]
  },
  {
   "cell_type": "code",
   "execution_count": 12,
   "metadata": {},
   "outputs": [],
   "source": [
    "#common interface\n",
    "def test(vhicle):\n",
    "    vhicle.details()\n",
    "    vhicle.work()\n"
   ]
  },
  {
   "cell_type": "code",
   "execution_count": 13,
   "metadata": {},
   "outputs": [
    {
     "name": "stdout",
     "output_type": "stream",
     "text": [
      "This is a Car\n",
      "Car run on road\n"
     ]
    }
   ],
   "source": [
    "v = Car()\n",
    "v2 = Airplane()\n",
    "test(v)"
   ]
  },
  {
   "cell_type": "code",
   "execution_count": 14,
   "metadata": {},
   "outputs": [
    {
     "name": "stdout",
     "output_type": "stream",
     "text": [
      "This is a Airplane\n",
      "Airplane can Fly\n"
     ]
    }
   ],
   "source": [
    "test(v2)"
   ]
  },
  {
   "cell_type": "code",
   "execution_count": 1,
   "metadata": {},
   "outputs": [
    {
     "data": {
      "text/plain": [
       "1.7320508075688772"
      ]
     },
     "execution_count": 1,
     "metadata": {},
     "output_type": "execute_result"
    }
   ],
   "source": [
    "import math\n",
    "n=3\n",
    "math.sqrt(n)"
   ]
  },
  {
   "cell_type": "code",
   "execution_count": null,
   "metadata": {},
   "outputs": [],
   "source": []
  }
 ],
 "metadata": {
  "kernelspec": {
   "display_name": "Python 3",
   "language": "python",
   "name": "python3"
  },
  "language_info": {
   "codemirror_mode": {
    "name": "ipython",
    "version": 3
   },
   "file_extension": ".py",
   "mimetype": "text/x-python",
   "name": "python",
   "nbconvert_exporter": "python",
   "pygments_lexer": "ipython3",
   "version": "3.8.5"
  },
  "toc": {
   "base_numbering": 1,
   "nav_menu": {
    "height": "437px",
    "width": "257px"
   },
   "number_sections": false,
   "sideBar": true,
   "skip_h1_title": false,
   "title_cell": "Table of Contents",
   "title_sidebar": "Contents",
   "toc_cell": false,
   "toc_position": {},
   "toc_section_display": true,
   "toc_window_display": false
  }
 },
 "nbformat": 4,
 "nbformat_minor": 4
}
