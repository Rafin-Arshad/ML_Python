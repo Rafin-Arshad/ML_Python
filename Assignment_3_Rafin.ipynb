{
 "cells": [
  {
   "cell_type": "markdown",
   "metadata": {},
   "source": [
    "## enumerate function"
   ]
  },
  {
   "cell_type": "code",
   "execution_count": 1,
   "metadata": {},
   "outputs": [
    {
     "name": "stdout",
     "output_type": "stream",
     "text": [
      "0 1\n",
      "1 25\n",
      "2 36\n",
      "3 20\n",
      "4 45\n",
      "5 55\n",
      "6 70\n",
      "7 10\n"
     ]
    }
   ],
   "source": [
    "# enumerate function used for enumerate a list or object like index and values\n",
    "list1 = [1,25,36,20,45,55,70,10]\n",
    "for index,item_values in enumerate(list1):\n",
    "    print(index, item_values)"
   ]
  },
  {
   "cell_type": "code",
   "execution_count": 8,
   "metadata": {},
   "outputs": [
    {
     "name": "stdout",
     "output_type": "stream",
     "text": [
      "70 6\n"
     ]
    }
   ],
   "source": [
    "# checking maximum for above list\n",
    "maxi = max(list1)\n",
    "print(maxi, list1.index(maxi))"
   ]
  },
  {
   "cell_type": "markdown",
   "metadata": {},
   "source": [
    "## list comprehension"
   ]
  },
  {
   "cell_type": "code",
   "execution_count": 9,
   "metadata": {},
   "outputs": [
    {
     "data": {
      "text/plain": [
       "[1, 9, 25, 49, 81]"
      ]
     },
     "execution_count": 9,
     "metadata": {},
     "output_type": "execute_result"
    }
   ],
   "source": [
    "lis = []\n",
    "for j in range(10):\n",
    "    if j%2!=0:\n",
    "        lis.append(j**2)\n",
    "lis"
   ]
  },
  {
   "cell_type": "code",
   "execution_count": 16,
   "metadata": {},
   "outputs": [
    {
     "data": {
      "text/plain": [
       "[1, 81, 625]"
      ]
     },
     "execution_count": 16,
     "metadata": {},
     "output_type": "execute_result"
    }
   ],
   "source": [
    "# using list comprehension from above code in an another loop over \n",
    "list_c = [i**2 for i in [ j**2 for j in range(0,10)] if i%2!=0 and i<26]\n",
    "list_c"
   ]
  },
  {
   "cell_type": "markdown",
   "metadata": {},
   "source": [
    "## map function\n",
    "###### split() function for split input taking or spliting string or list with space or any kind of string"
   ]
  },
  {
   "cell_type": "code",
   "execution_count": 24,
   "metadata": {},
   "outputs": [
    {
     "name": "stdout",
     "output_type": "stream",
     "text": [
      "1 3 4 7 2 10\n"
     ]
    },
    {
     "data": {
      "text/plain": [
       "10"
      ]
     },
     "execution_count": 24,
     "metadata": {},
     "output_type": "execute_result"
    }
   ],
   "source": [
    "# using map function checking maximum\n",
    "list1 = list(map(int, input().split()))\n",
    "maxi = max(list1)\n",
    "maxi"
   ]
  },
  {
   "cell_type": "markdown",
   "metadata": {},
   "source": [
    "#### map function and sort function and lambda function together"
   ]
  },
  {
   "cell_type": "code",
   "execution_count": 48,
   "metadata": {},
   "outputs": [
    {
     "name": "stdout",
     "output_type": "stream",
     "text": [
      "[88, 89, 99, 100, 101]\n"
     ]
    }
   ],
   "source": [
    "stu_names = [\n",
    "    ('Who', 100),\n",
    "    ('When', 88),\n",
    "    ('Where', 101),\n",
    "    ('How', 89),\n",
    "    ('What', 99)\n",
    "]\n",
    "m_list = list(map(lambda value:value[1], stu_names))\n",
    "m_list.sort()\n",
    "print(m_list)\n"
   ]
  },
  {
   "cell_type": "code",
   "execution_count": 58,
   "metadata": {},
   "outputs": [
    {
     "data": {
      "text/plain": [
       "4"
      ]
     },
     "execution_count": 58,
     "metadata": {},
     "output_type": "execute_result"
    }
   ],
   "source": [
    "## squaring a number using lambda function and map function\n",
    "square = lambda list_number:list_number**2\n",
    "square(2)"
   ]
  },
  {
   "cell_type": "code",
   "execution_count": 59,
   "metadata": {},
   "outputs": [
    {
     "name": "stdout",
     "output_type": "stream",
     "text": [
      "[1, 4, 9, 16]\n"
     ]
    }
   ],
   "source": [
    "list_number = [1,2,3,4]\n",
    "s = list(map(square,list_number))\n",
    "print(s)"
   ]
  },
  {
   "cell_type": "code",
   "execution_count": 66,
   "metadata": {},
   "outputs": [
    {
     "data": {
      "text/plain": [
       "[None, None, 'again']"
      ]
     },
     "execution_count": 66,
     "metadata": {},
     "output_type": "execute_result"
    }
   ],
   "source": [
    "# checking a string is it in list or not using python function and map function\n",
    "list1 =['new','look','again']\n",
    "def checking(string):\n",
    "    if 'i' in string:\n",
    "        return string\n",
    "result = list(map(checking, list1))\n",
    "result"
   ]
  },
  {
   "cell_type": "markdown",
   "metadata": {},
   "source": [
    "## filter() function"
   ]
  },
  {
   "cell_type": "code",
   "execution_count": 67,
   "metadata": {},
   "outputs": [
    {
     "name": "stdout",
     "output_type": "stream",
     "text": [
      "['again']\n"
     ]
    }
   ],
   "source": [
    "# filter () function filtering list or object with self or any function\n",
    "result_2 = list(filter(checking,list1))\n",
    "print(result_2) # result is printing what's in the function to do and above map function printing whole list with resultent value also"
   ]
  },
  {
   "cell_type": "markdown",
   "metadata": {},
   "source": [
    "#### another way of filter function use \n",
    "##### and also use of lambda function for practicing that i am doing it right or wrong to understand\n",
    "#### the advantage of filter function over using map function is that we gonna see the whole tupple but map function only present just values"
   ]
  },
  {
   "cell_type": "code",
   "execution_count": 76,
   "metadata": {},
   "outputs": [
    {
     "name": "stdout",
     "output_type": "stream",
     "text": [
      "[('Who', 100), ('Where', 101)]\n"
     ]
    }
   ],
   "source": [
    "stu_names = [\n",
    "    ('Who', 100),\n",
    "    ('When', 88),\n",
    "    ('Where', 101),\n",
    "    ('How', 89),\n",
    "    ('What', 99)\n",
    "]\n",
    "list1= list(filter(lambda name:name[1]>99, stu_names))\n",
    "n = sorted(list1,reverse=True)\n",
    "# list1.sort(key=lambda name:name[1])\n",
    "#list1\n",
    "print(n)"
   ]
  },
  {
   "cell_type": "markdown",
   "metadata": {},
   "source": [
    "## nested function\n",
    "#####  nested function are going to be used when i am doing a large amount of code and  when i need a sub function into main function"
   ]
  },
  {
   "cell_type": "code",
   "execution_count": 79,
   "metadata": {},
   "outputs": [
    {
     "name": "stdout",
     "output_type": "stream",
     "text": [
      "Hi 'Ankur' this is the main function u r printing from\n",
      "Hi 'Rafin' this is the nested function and it is called from into the main_function\n"
     ]
    }
   ],
   "source": [
    "def main_function(name):\n",
    "    print(f\"Hi '{name}' this is the main function u r printing from\")\n",
    "    def nested_function(name2):\n",
    "        \n",
    "        print(f\"Hi '{name2}' this is the nested function and it is called from into the main_function\")\n",
    "    nested_function(\"Rafin\")\n",
    "main_function('Ankur')"
   ]
  },
  {
   "cell_type": "markdown",
   "metadata": {},
   "source": [
    "## *args -- multiple arguments"
   ]
  },
  {
   "cell_type": "code",
   "execution_count": 81,
   "metadata": {},
   "outputs": [
    {
     "name": "stdout",
     "output_type": "stream",
     "text": [
      "1\n",
      "2\n",
      "[3, 4]\n"
     ]
    }
   ],
   "source": [
    "# suppose like we want first two values from a list and other values all are in assign in one value like this->\n",
    "number_list = 1,2,3,4\n",
    "x,y,*other = number_list\n",
    "print(x)\n",
    "print(y)\n",
    "print(other)"
   ]
  },
  {
   "cell_type": "code",
   "execution_count": 93,
   "metadata": {},
   "outputs": [
    {
     "data": {
      "text/plain": [
       "15"
      ]
     },
     "execution_count": 93,
     "metadata": {},
     "output_type": "execute_result"
    }
   ],
   "source": [
    "# *args in function\n",
    "def sumation(*args):\n",
    "    \n",
    "    return sum(args)\n",
    "sumation(2,3,4,6)"
   ]
  },
  {
   "cell_type": "code",
   "execution_count": 1,
   "metadata": {},
   "outputs": [
    {
     "name": "stdout",
     "output_type": "stream",
     "text": [
      "720\n"
     ]
    }
   ],
   "source": [
    "# using *args multiply numbers\n",
    "def multiply(*numbers):\n",
    "    total=1\n",
    "    for number in numbers:\n",
    "        total*=number\n",
    "    return total\n",
    "    \n",
    "    \n",
    "print(multiply(2,3,4,5,6))"
   ]
  },
  {
   "cell_type": "markdown",
   "metadata": {},
   "source": [
    "## **kwargs argument uses"
   ]
  },
  {
   "cell_type": "markdown",
   "metadata": {},
   "source": [
    "#### kwargs means key words argument  bascialy it is useful when we work with dictionary"
   ]
  },
  {
   "cell_type": "code",
   "execution_count": 12,
   "metadata": {},
   "outputs": [
    {
     "name": "stdout",
     "output_type": "stream",
     "text": [
      "{'id': '1', 'name': 'Ankur', 'phone': '01771263365', 'address': 'Dinajpur'}\n",
      "Ankur\n",
      "01771263365\n"
     ]
    }
   ],
   "source": [
    "# using kwargs printing user info\n",
    "def save_user_info(**users):\n",
    "        print(users)\n",
    "        print(users['name'])\n",
    "        print(users['phone'])\n",
    "        \n",
    "    \n",
    "save_user_info(id='1',name='Ankur', phone='01771263365',address='Dinajpur')"
   ]
  },
  {
   "cell_type": "code",
   "execution_count": 10,
   "metadata": {},
   "outputs": [],
   "source": [
    "# from the above program we can see the result output is showing us in dictionary so we can do this also.."
   ]
  },
  {
   "cell_type": "code",
   "execution_count": 13,
   "metadata": {},
   "outputs": [
    {
     "name": "stdout",
     "output_type": "stream",
     "text": [
      "Ankur\n"
     ]
    }
   ],
   "source": [
    "def checking(**names):\n",
    "    if 'name1' in names:\n",
    "        print(names['name1'])\n",
    "    else:\n",
    "        print(names['name2'])\n",
    "    \n",
    "checking(name1='Ankur', name2='Rafin')"
   ]
  },
  {
   "cell_type": "code",
   "execution_count": null,
   "metadata": {},
   "outputs": [],
   "source": []
  }
 ],
 "metadata": {
  "kernelspec": {
   "display_name": "Python 3",
   "language": "python",
   "name": "python3"
  },
  "language_info": {
   "codemirror_mode": {
    "name": "ipython",
    "version": 3
   },
   "file_extension": ".py",
   "mimetype": "text/x-python",
   "name": "python",
   "nbconvert_exporter": "python",
   "pygments_lexer": "ipython3",
   "version": "3.8.5"
  },
  "toc": {
   "base_numbering": 1,
   "nav_menu": {},
   "number_sections": false,
   "sideBar": true,
   "skip_h1_title": false,
   "title_cell": "Table of Contents",
   "title_sidebar": "Contents",
   "toc_cell": false,
   "toc_position": {},
   "toc_section_display": true,
   "toc_window_display": false
  }
 },
 "nbformat": 4,
 "nbformat_minor": 4
}
