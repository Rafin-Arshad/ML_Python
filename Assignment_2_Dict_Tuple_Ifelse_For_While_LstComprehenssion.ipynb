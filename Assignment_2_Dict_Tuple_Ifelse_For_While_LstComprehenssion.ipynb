{
 "cells": [
  {
   "cell_type": "markdown",
   "metadata": {},
   "source": [
    "# Dictionary"
   ]
  },
  {
   "cell_type": "markdown",
   "metadata": {},
   "source": [
    "### get() method"
   ]
  },
  {
   "cell_type": "code",
   "execution_count": 1,
   "metadata": {},
   "outputs": [
    {
     "data": {
      "text/plain": [
       "['ball', 'bold', 'behave']"
      ]
     },
     "execution_count": 1,
     "metadata": {},
     "output_type": "execute_result"
    }
   ],
   "source": [
    "# creating dictionary and using get() method to find out values over the dictionary\n",
    "dict1 = {\n",
    "    'a':['apple','another','app'],\n",
    "    'b': ['ball','bold','behave']\n",
    "}\n",
    "dict1.get('b')"
   ]
  },
  {
   "cell_type": "code",
   "execution_count": 3,
   "metadata": {},
   "outputs": [
    {
     "data": {
      "text/plain": [
       "0"
      ]
     },
     "execution_count": 3,
     "metadata": {},
     "output_type": "execute_result"
    }
   ],
   "source": [
    "#using get() method to find what's not in that dictionar and return none\n",
    "dict1.get('c',0)"
   ]
  },
  {
   "cell_type": "markdown",
   "metadata": {},
   "source": [
    "# Tuple"
   ]
  },
  {
   "cell_type": "code",
   "execution_count": 5,
   "metadata": {},
   "outputs": [
    {
     "data": {
      "text/plain": [
       "('a', 'b')"
      ]
     },
     "execution_count": 5,
     "metadata": {},
     "output_type": "execute_result"
    }
   ],
   "source": [
    "#using tuple built-in function to converting dictionary key's into tuple\n",
    "t = tuple(dict1)\n",
    "t"
   ]
  },
  {
   "cell_type": "code",
   "execution_count": 7,
   "metadata": {},
   "outputs": [
    {
     "data": {
      "text/plain": [
       "'a'"
      ]
     },
     "execution_count": 7,
     "metadata": {},
     "output_type": "execute_result"
    }
   ],
   "source": [
    "t[0]"
   ]
  },
  {
   "cell_type": "code",
   "execution_count": 8,
   "metadata": {},
   "outputs": [],
   "source": [
    "#tuple's value distribution\n",
    "tuple1= (3,4,5)\n",
    "x,y,z = tuple1"
   ]
  },
  {
   "cell_type": "code",
   "execution_count": 9,
   "metadata": {},
   "outputs": [
    {
     "data": {
      "text/plain": [
       "3"
      ]
     },
     "execution_count": 9,
     "metadata": {},
     "output_type": "execute_result"
    }
   ],
   "source": [
    "x"
   ]
  },
  {
   "cell_type": "code",
   "execution_count": 10,
   "metadata": {},
   "outputs": [
    {
     "data": {
      "text/plain": [
       "4"
      ]
     },
     "execution_count": 10,
     "metadata": {},
     "output_type": "execute_result"
    }
   ],
   "source": [
    "y"
   ]
  },
  {
   "cell_type": "code",
   "execution_count": 11,
   "metadata": {},
   "outputs": [
    {
     "data": {
      "text/plain": [
       "5"
      ]
     },
     "execution_count": 11,
     "metadata": {},
     "output_type": "execute_result"
    }
   ],
   "source": [
    "z"
   ]
  },
  {
   "cell_type": "markdown",
   "metadata": {},
   "source": [
    "### index()"
   ]
  },
  {
   "cell_type": "code",
   "execution_count": 13,
   "metadata": {},
   "outputs": [
    {
     "data": {
      "text/plain": [
       "0"
      ]
     },
     "execution_count": 13,
     "metadata": {},
     "output_type": "execute_result"
    }
   ],
   "source": [
    "tuple1.index(3)"
   ]
  },
  {
   "cell_type": "code",
   "execution_count": 14,
   "metadata": {},
   "outputs": [],
   "source": [
    "# concatinate two tuple\n",
    "tuple2 =(5,6)\n",
    "tuple3 = tuple1+tuple2"
   ]
  },
  {
   "cell_type": "code",
   "execution_count": 15,
   "metadata": {},
   "outputs": [
    {
     "data": {
      "text/plain": [
       "(3, 4, 5, 5, 6)"
      ]
     },
     "execution_count": 15,
     "metadata": {},
     "output_type": "execute_result"
    }
   ],
   "source": [
    "tuple3"
   ]
  },
  {
   "cell_type": "markdown",
   "metadata": {},
   "source": [
    "## If-Else"
   ]
  },
  {
   "cell_type": "code",
   "execution_count": 18,
   "metadata": {},
   "outputs": [
    {
     "name": "stdout",
     "output_type": "stream",
     "text": [
      "enter your age:18\n",
      "You are eligible for vote.\n"
     ]
    }
   ],
   "source": [
    "#checking the condintion using if-else\n",
    "age = int(input('enter your age:'))\n",
    "if age >=18:\n",
    "    print('You are eligible for vote.')\n",
    "else:\n",
    "    print('You are not eligible for vote')"
   ]
  },
  {
   "cell_type": "code",
   "execution_count": 14,
   "metadata": {},
   "outputs": [
    {
     "name": "stdout",
     "output_type": "stream",
     "text": [
      "Enter your word for checking palindrome: 123\n",
      "123 is not palindrome\n"
     ]
    }
   ],
   "source": [
    "word = input(\"Enter your word for checking palindrome: \")\n",
    "if word.upper()==word[::-1].upper():\n",
    "    print(f\"{word} is palindrome\")\n",
    "else:\n",
    "    print(f\"{word} is not palindrome\")"
   ]
  },
  {
   "cell_type": "code",
   "execution_count": 10,
   "metadata": {},
   "outputs": [
    {
     "name": "stdout",
     "output_type": "stream",
     "text": [
      "Enter your number:121\n",
      "Not Armstrong Number\n"
     ]
    }
   ],
   "source": [
    "#armstrong number checking\n",
    "n = input(\"Enter your number:\")\n",
    "sum = 0\n",
    "for i in n:\n",
    "    sum+=int(i)**3\n",
    "\n",
    "if sum==int(n):\n",
    "    print('Armstrong Number')\n",
    "else:\n",
    "    print(\"Not Armstrong Number\")"
   ]
  },
  {
   "cell_type": "code",
   "execution_count": 11,
   "metadata": {},
   "outputs": [
    {
     "name": "stdout",
     "output_type": "stream",
     "text": [
      "Yes\n"
     ]
    }
   ],
   "source": [
    "# using if-else statement checking if the element is in list or not\n",
    "li = [10,11,12,14,12,25]\n",
    "if 11 in li and 25 in li:\n",
    "    print('Yes')\n",
    "else:\n",
    "    print(\"no\")"
   ]
  },
  {
   "cell_type": "code",
   "execution_count": 12,
   "metadata": {},
   "outputs": [
    {
     "name": "stdout",
     "output_type": "stream",
     "text": [
      "Yes\n"
     ]
    }
   ],
   "source": [
    "#another way using not \n",
    "if 13 not in li and 12 in li:\n",
    "    print('Yes')\n",
    "else:\n",
    "    print('Not')"
   ]
  },
  {
   "cell_type": "code",
   "execution_count": 15,
   "metadata": {},
   "outputs": [
    {
     "name": "stdout",
     "output_type": "stream",
     "text": [
      "Yes\n"
     ]
    }
   ],
   "source": [
    "#for practicing using or \n",
    "if 13 not in li or 26 not in li:\n",
    "    print('Yes')\n",
    "else:\n",
    "    print('Not')"
   ]
  },
  {
   "cell_type": "markdown",
   "metadata": {},
   "source": [
    "### if-elif-else"
   ]
  },
  {
   "cell_type": "code",
   "execution_count": 43,
   "metadata": {},
   "outputs": [
    {
     "name": "stdout",
     "output_type": "stream",
     "text": [
      "Enter your mark: 70\n",
      "A-\n"
     ]
    }
   ],
   "source": [
    "# checking the result of student or checking grade of student using if-elif-else\n",
    "marks = int(input('Enter your mark: '))\n",
    "if (80<=marks):\n",
    "    print('A+')\n",
    "elif (76<=marks and 79>=marks):\n",
    "    print('A')\n",
    "elif (70<=marks and marks<=75):\n",
    "    print('A-')\n",
    "else:\n",
    "    print('B+')"
   ]
  },
  {
   "cell_type": "markdown",
   "metadata": {},
   "source": [
    "## For loop"
   ]
  },
  {
   "cell_type": "code",
   "execution_count": 52,
   "metadata": {},
   "outputs": [
    {
     "name": "stdout",
     "output_type": "stream",
     "text": [
      "2\n",
      "4\n",
      "6\n",
      "8\n",
      "we have 4 even numbers\n"
     ]
    }
   ],
   "source": [
    "# find out the even numbers between 1 to 10 and print the actual even number we get \n",
    "count=0\n",
    "for number in range(1,10):\n",
    "    if number%2==0:\n",
    "        print(number)\n",
    "        count+=1\n",
    "print(f'we have {count} even numbers')"
   ]
  },
  {
   "cell_type": "code",
   "execution_count": 18,
   "metadata": {},
   "outputs": [
    {
     "name": "stdout",
     "output_type": "stream",
     "text": [
      "Range> 101\n",
      "Prime numbers are>\n",
      "2\n",
      "3\n",
      "5\n",
      "7\n",
      "11\n",
      "13\n",
      "17\n",
      "19\n",
      "23\n",
      "29\n",
      "31\n",
      "37\n",
      "41\n",
      "43\n",
      "47\n",
      "53\n",
      "59\n",
      "61\n",
      "67\n",
      "71\n",
      "73\n",
      "79\n",
      "83\n",
      "89\n",
      "97\n",
      "100\n"
     ]
    }
   ],
   "source": [
    "#print prime numbers from 1 to nth number\n",
    "number=int(input('Range> '))\n",
    "print('Prime numbers are>')\n",
    "su = []\n",
    "for i in range(1, number):\n",
    "    count=0\n",
    "    for j in range(1,i+1):\n",
    "        if i%j==0:\n",
    "            count+=1\n",
    "    su.append(count)\n",
    "    if count==2:\n",
    "        \n",
    "        print(i)\n",
    "print(len(su))"
   ]
  },
  {
   "cell_type": "markdown",
   "metadata": {},
   "source": [
    "## While Loop"
   ]
  },
  {
   "cell_type": "markdown",
   "metadata": {},
   "source": [
    "#### use lower() method, incase user type uppercase letter for input"
   ]
  },
  {
   "cell_type": "code",
   "execution_count": 48,
   "metadata": {},
   "outputs": [
    {
     "name": "stdout",
     "output_type": "stream",
     "text": [
      "Enter the command you want> 55+55\n",
      "Echo 55+55\n",
      "Enter the command you want> Ankur\n",
      "Echo Ankur\n",
      "Enter the command you want> Rafin\n",
      "Echo Rafin\n",
      "Enter the command you want> Quit\n",
      "Echo Quit\n"
     ]
    }
   ],
   "source": [
    "#using while loop perform an operation that takes user input like quit to terminate the program but other input echo back\n",
    "command = ''\n",
    "while command.lower() !='quit':\n",
    "    command = input('Enter the command you want> ')\n",
    "    print('Echo',command)"
   ]
  },
  {
   "cell_type": "code",
   "execution_count": null,
   "metadata": {},
   "outputs": [],
   "source": []
  },
  {
   "cell_type": "code",
   "execution_count": 2,
   "metadata": {},
   "outputs": [
    {
     "name": "stdout",
     "output_type": "stream",
     "text": [
      "10\n",
      "20\n",
      "Case 1: 211\n",
      "20\n",
      "Case 2: 211\n",
      "70\n",
      "Case 3: 2486\n",
      "80\n",
      "Case 4: 3241\n",
      "1110\n",
      "Case 5: 616606\n",
      "4\n",
      "Case 6: 11\n",
      "1\n",
      "Case 7: 2\n",
      "2\n",
      "Case 8: 4\n",
      "45\n",
      "Case 9: 1036\n",
      "65\n",
      "Case 10: 2146\n"
     ]
    }
   ],
   "source": [
    "t= int(input())\n",
    "i=0\n",
    "\n",
    "while i<t:\n",
    "  n= int(input())\n",
    "  seq= (n*(n+1))/2+1\n",
    "  i += 1\n",
    "  print(\"Case {}: {}\".format(i,int(seq)))"
   ]
  },
  {
   "cell_type": "code",
   "execution_count": 66,
   "metadata": {},
   "outputs": [
    {
     "name": "stdout",
     "output_type": "stream",
     "text": [
      "Enter the command you want> quit\n",
      "Echo quit\n",
      "'Quit' found Sucessfully\n"
     ]
    }
   ],
   "source": [
    "#from above code use if statement to print sucessfully that the comman quit found\n",
    "command = ''\n",
    "while command.lower() !='quit':\n",
    "    command = input('Enter the command you want> ')\n",
    "    print('Echo',command)\n",
    "    if command.lower() == 'quit':\n",
    "        print(\"'Quit' found Sucessfully\")"
   ]
  },
  {
   "cell_type": "code",
   "execution_count": 16,
   "metadata": {},
   "outputs": [
    {
     "name": "stdout",
     "output_type": "stream",
     "text": [
      "The prime numbers are>>\n",
      "2\n",
      "3\n",
      "5\n",
      "7\n",
      "11\n",
      "13\n",
      "17\n",
      "19\n",
      "23\n",
      "29\n",
      "31\n",
      "37\n",
      "41\n",
      "43\n",
      "47\n",
      "53\n",
      "59\n",
      "61\n",
      "67\n",
      "71\n",
      "73\n",
      "79\n",
      "83\n",
      "89\n",
      "97\n",
      "101\n",
      "103\n",
      "107\n",
      "109\n",
      "113\n",
      "127\n",
      "131\n",
      "137\n",
      "139\n",
      "149\n",
      "151\n",
      "157\n",
      "163\n",
      "167\n",
      "173\n",
      "179\n",
      "181\n",
      "191\n",
      "193\n",
      "197\n",
      "199\n",
      "211\n",
      "223\n",
      "227\n",
      "229\n",
      "233\n",
      "239\n",
      "241\n",
      "251\n",
      "257\n",
      "263\n",
      "269\n",
      "271\n",
      "277\n",
      "281\n",
      "283\n",
      "293\n",
      "307\n",
      "311\n",
      "313\n",
      "317\n",
      "331\n",
      "337\n",
      "347\n",
      "349\n",
      "353\n",
      "359\n",
      "367\n",
      "373\n",
      "379\n",
      "383\n",
      "389\n",
      "397\n",
      "401\n",
      "409\n",
      "419\n",
      "421\n",
      "431\n",
      "433\n",
      "439\n",
      "443\n",
      "449\n",
      "457\n",
      "461\n",
      "463\n",
      "467\n",
      "479\n",
      "487\n",
      "491\n",
      "499\n",
      "503\n",
      "509\n",
      "521\n",
      "523\n",
      "541\n",
      "\n",
      " Total-List:  100\n"
     ]
    }
   ],
   "source": [
    "#give 1st 100th prime numbers\n",
    "count = 0\n",
    "digit=1\n",
    "total_list=[]\n",
    "print('The prime numbers are>>')\n",
    "while count<100:\n",
    "    remainder=0\n",
    "    for i in range(1,digit+1):\n",
    "        if digit%i==0:\n",
    "            remainder+=1\n",
    "    if remainder==2:\n",
    "        count+=1\n",
    "        print(digit)\n",
    "        total_list.append(digit)\n",
    "    digit+=1\n",
    "print(\"\\n\",\"Total-List: \",len(total_list))"
   ]
  },
  {
   "cell_type": "code",
   "execution_count": null,
   "metadata": {},
   "outputs": [],
   "source": []
  },
  {
   "cell_type": "markdown",
   "metadata": {},
   "source": [
    "## Function"
   ]
  },
  {
   "cell_type": "code",
   "execution_count": 18,
   "metadata": {},
   "outputs": [
    {
     "name": "stdout",
     "output_type": "stream",
     "text": [
      "Enter word:: moM\n",
      "Palindrome\n"
     ]
    }
   ],
   "source": [
    "# checking palindrome define a function\n",
    "def palindrome(word):\n",
    "    if word.lower()==word[::-1].lower():\n",
    "        print('Palindrome')\n",
    "    else:\n",
    "        print('Not Palindrome')\n",
    "\n",
    "word = input('Enter word:: ')\n",
    "palindrome(word)\n",
    "    "
   ]
  },
  {
   "cell_type": "code",
   "execution_count": 3,
   "metadata": {},
   "outputs": [
    {
     "name": "stdout",
     "output_type": "stream",
     "text": [
      "2\n",
      "3\n"
     ]
    },
    {
     "data": {
      "text/plain": [
       "5"
      ]
     },
     "execution_count": 3,
     "metadata": {},
     "output_type": "execute_result"
    }
   ],
   "source": [
    "#Summation of two integer number using function:\n",
    "def summation(a,b):\n",
    "    return a+b\n",
    "a= int(input())\n",
    "b = int(input())\n",
    "summation(a,b)"
   ]
  },
  {
   "cell_type": "markdown",
   "metadata": {},
   "source": [
    "### Lambda Function"
   ]
  },
  {
   "cell_type": "code",
   "execution_count": 31,
   "metadata": {},
   "outputs": [
    {
     "name": "stdout",
     "output_type": "stream",
     "text": [
      "enter word::madam\n"
     ]
    },
    {
     "data": {
      "text/plain": [
       "True"
      ]
     },
     "execution_count": 31,
     "metadata": {},
     "output_type": "execute_result"
    }
   ],
   "source": [
    "word = input(\"enter word::\")\n",
    "out = lambda word:word.lower()==word[::-1].lower()\n",
    "out(word)"
   ]
  },
  {
   "cell_type": "markdown",
   "metadata": {},
   "source": [
    "## List Comprehension"
   ]
  },
  {
   "cell_type": "code",
   "execution_count": 2,
   "metadata": {},
   "outputs": [
    {
     "name": "stdout",
     "output_type": "stream",
     "text": [
      "[[[['*', '*', '*', '*', '*', '*'], ['*', '*', '*', '*', '*', '*'], ['*', '*', '*', '*', '*', '*'], ['*', '*', '*', '*', '*', '*']], [['*', '*', '*', '*', '*', '*'], ['*', '*', '*', '*', '*', '*'], ['*', '*', '*', '*', '*', '*'], ['*', '*', '*', '*', '*', '*']], [['*', '*', '*', '*', '*', '*'], ['*', '*', '*', '*', '*', '*'], ['*', '*', '*', '*', '*', '*'], ['*', '*', '*', '*', '*', '*']]]]\n"
     ]
    }
   ],
   "source": [
    "# list compreshension is usefull for coding\n",
    "#suppose we print 3D array of \"*\" in range of 3-4-6 \n",
    "array = [[ [['*' for i in range (6)] for j in range (4)] for s in range (3)]]\n",
    "print(array)"
   ]
  },
  {
   "cell_type": "markdown",
   "metadata": {},
   "source": [
    "## any() and all()"
   ]
  },
  {
   "cell_type": "code",
   "execution_count": 14,
   "metadata": {},
   "outputs": [
    {
     "name": "stdout",
     "output_type": "stream",
     "text": [
      "Yes\n"
     ]
    }
   ],
   "source": [
    "list1 = [22,25,10,12,16,80]\n",
    "if all([i>=10 for i in list1]):\n",
    "    print('Yes')"
   ]
  },
  {
   "cell_type": "code",
   "execution_count": 15,
   "metadata": {},
   "outputs": [
    {
     "name": "stdout",
     "output_type": "stream",
     "text": [
      "Yes\n"
     ]
    }
   ],
   "source": [
    "if any([i<25 for i in list1]):\n",
    "    print('Yes')"
   ]
  },
  {
   "cell_type": "code",
   "execution_count": null,
   "metadata": {},
   "outputs": [],
   "source": []
  }
 ],
 "metadata": {
  "kernelspec": {
   "display_name": "Python 3",
   "language": "python",
   "name": "python3"
  },
  "language_info": {
   "codemirror_mode": {
    "name": "ipython",
    "version": 3
   },
   "file_extension": ".py",
   "mimetype": "text/x-python",
   "name": "python",
   "nbconvert_exporter": "python",
   "pygments_lexer": "ipython3",
   "version": "3.8.5"
  },
  "toc": {
   "base_numbering": 1,
   "nav_menu": {},
   "number_sections": true,
   "sideBar": true,
   "skip_h1_title": false,
   "title_cell": "Table of Contents",
   "title_sidebar": "Contents",
   "toc_cell": false,
   "toc_position": {},
   "toc_section_display": true,
   "toc_window_display": false
  },
  "varInspector": {
   "cols": {
    "lenName": 16,
    "lenType": 16,
    "lenVar": 40
   },
   "kernels_config": {
    "python": {
     "delete_cmd_postfix": "",
     "delete_cmd_prefix": "del ",
     "library": "var_list.py",
     "varRefreshCmd": "print(var_dic_list())"
    },
    "r": {
     "delete_cmd_postfix": ") ",
     "delete_cmd_prefix": "rm(",
     "library": "var_list.r",
     "varRefreshCmd": "cat(var_dic_list()) "
    }
   },
   "types_to_exclude": [
    "module",
    "function",
    "builtin_function_or_method",
    "instance",
    "_Feature"
   ],
   "window_display": false
  }
 },
 "nbformat": 4,
 "nbformat_minor": 4
}
