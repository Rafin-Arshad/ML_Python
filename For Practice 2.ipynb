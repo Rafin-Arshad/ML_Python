{
 "cells": [
  {
   "cell_type": "code",
   "execution_count": 22,
   "metadata": {},
   "outputs": [
    {
     "name": "stdout",
     "output_type": "stream",
     "text": [
      "i Am\n",
      "aM I\n"
     ]
    }
   ],
   "source": [
    "# swapping, Upper, lower and reversed a sentence\n",
    "def swap_case(sentence):\n",
    "    for i in range(len(sentence)):\n",
    "        if sentence[i].isupper():\n",
    "            return sentence[i].lower()\n",
    "        elif sentence[i].islower():\n",
    "            return sentence[i].upper()\n",
    "        else:\n",
    "            return sentence[i]\n",
    "        \n",
    "sentence = input()\n",
    "words = sentence.split()\n",
    "swap_case(words)\n",
    "join_word = \"\".join(map(swap_case,sentence))\n",
    "split_words = join_word.split()\n",
    "reverse = list(reversed(split_words))\n",
    "print(\" \".join(reverse))\n"
   ]
  },
  {
   "cell_type": "code",
   "execution_count": 56,
   "metadata": {},
   "outputs": [
    {
     "name": "stdout",
     "output_type": "stream",
     "text": [
      "2020\n"
     ]
    },
    {
     "data": {
      "text/plain": [
       "True"
      ]
     },
     "execution_count": 56,
     "metadata": {},
     "output_type": "execute_result"
    }
   ],
   "source": [
    "#leap year checking using Function\n",
    "def checking_leapyear(year):\n",
    "    leap = False\n",
    "    if year%4==0:\n",
    "        if year%100==0:\n",
    "            if year%400==0:\n",
    "                leap=True\n",
    "                return leap\n",
    "            else:\n",
    "                leap= False\n",
    "                return leap\n",
    "        else:\n",
    "            leap = True\n",
    "            return leap\n",
    "    else:\n",
    "        leap = False\n",
    "        return leap\n",
    "    \n",
    "year = eval(input())\n",
    "checking_leapyear(year)"
   ]
  },
  {
   "cell_type": "code",
   "execution_count": 62,
   "metadata": {},
   "outputs": [
    {
     "data": {
      "text/plain": [
       "False"
      ]
     },
     "execution_count": 62,
     "metadata": {},
     "output_type": "execute_result"
    }
   ],
   "source": [
    "2020%100==0"
   ]
  },
  {
   "cell_type": "code",
   "execution_count": 60,
   "metadata": {},
   "outputs": [
    {
     "name": "stdout",
     "output_type": "stream",
     "text": [
      "False\n"
     ]
    }
   ],
   "source": [
    "n=1990\n",
    "if n%4==0:\n",
    "    if n%100==0:\n",
    "        print(True)\n",
    "else:\n",
    "    print(False)"
   ]
  },
  {
   "cell_type": "code",
   "execution_count": null,
   "metadata": {},
   "outputs": [],
   "source": []
  }
 ],
 "metadata": {
  "kernelspec": {
   "display_name": "Python 3",
   "language": "python",
   "name": "python3"
  },
  "language_info": {
   "codemirror_mode": {
    "name": "ipython",
    "version": 3
   },
   "file_extension": ".py",
   "mimetype": "text/x-python",
   "name": "python",
   "nbconvert_exporter": "python",
   "pygments_lexer": "ipython3",
   "version": "3.8.5"
  },
  "toc": {
   "base_numbering": 1,
   "nav_menu": {},
   "number_sections": true,
   "sideBar": true,
   "skip_h1_title": false,
   "title_cell": "Table of Contents",
   "title_sidebar": "Contents",
   "toc_cell": false,
   "toc_position": {},
   "toc_section_display": true,
   "toc_window_display": false
  }
 },
 "nbformat": 4,
 "nbformat_minor": 4
}
