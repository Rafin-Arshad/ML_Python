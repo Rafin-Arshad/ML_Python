{
 "cells": [
  {
   "cell_type": "markdown",
   "metadata": {},
   "source": [
    "### String breakdown in a different way"
   ]
  },
  {
   "cell_type": "code",
   "execution_count": 18,
   "metadata": {},
   "outputs": [
    {
     "name": "stdout",
     "output_type": "stream",
     "text": [
      "R\n",
      "Ra\n",
      "Raf\n",
      "Rafi\n",
      "Rafin\n",
      "a\n",
      "af\n",
      "afi\n",
      "afin\n",
      "f\n",
      "fi\n",
      "fin\n",
      "i\n",
      "in\n",
      "n\n"
     ]
    }
   ],
   "source": [
    "string = \"Rafin\"\n",
    "for i in range(len(string)+1):\n",
    "#     print(i, string[i])\n",
    "    for j in range(i, len(string)):\n",
    "#         print(j, i)\n",
    "        print(string[i:j+1])"
   ]
  },
  {
   "cell_type": "markdown",
   "metadata": {},
   "source": [
    "#### Above code using list comprehension"
   ]
  },
  {
   "cell_type": "code",
   "execution_count": 27,
   "metadata": {},
   "outputs": [
    {
     "data": {
      "text/plain": [
       "[['R', 'Ra', 'Raf', 'Rafi', 'Rafin'],\n",
       " ['a', 'af', 'afi', 'afin'],\n",
       " ['f', 'fi', 'fin'],\n",
       " ['i', 'in'],\n",
       " ['n'],\n",
       " []]"
      ]
     },
     "execution_count": 27,
     "metadata": {},
     "output_type": "execute_result"
    }
   ],
   "source": [
    "s = [ [string[i:j+1] for j in range(i, len(string))] for i in range(len(string)+1)]\n",
    "s"
   ]
  },
  {
   "cell_type": "markdown",
   "metadata": {},
   "source": [
    "### Squaring all items into a lists"
   ]
  },
  {
   "cell_type": "code",
   "execution_count": 28,
   "metadata": {},
   "outputs": [
    {
     "data": {
      "text/plain": [
       "[144, 9, 36, 64, 81]"
      ]
     },
     "execution_count": 28,
     "metadata": {},
     "output_type": "execute_result"
    }
   ],
   "source": [
    "list_1 = [12,3,6,8,9]\n",
    "list_2 = []\n",
    "for item in list_1:\n",
    "    list_2.append(item**2)\n",
    "list_2"
   ]
  },
  {
   "cell_type": "markdown",
   "metadata": {},
   "source": [
    "#### above code using dictionary comprehension"
   ]
  },
  {
   "cell_type": "code",
   "execution_count": 29,
   "metadata": {},
   "outputs": [
    {
     "data": {
      "text/plain": [
       "{9, 36, 64, 81, 144}"
      ]
     },
     "execution_count": 29,
     "metadata": {},
     "output_type": "execute_result"
    }
   ],
   "source": [
    "dict_1 = {item**2 for item in list_1}\n",
    "dict_1"
   ]
  },
  {
   "cell_type": "code",
   "execution_count": null,
   "metadata": {},
   "outputs": [],
   "source": [
    "# list-- 37, 19, 23,26 "
   ]
  },
  {
   "cell_type": "markdown",
   "metadata": {},
   "source": [
    "### flatten a shallow list"
   ]
  },
  {
   "cell_type": "code",
   "execution_count": 5,
   "metadata": {},
   "outputs": [
    {
     "name": "stdout",
     "output_type": "stream",
     "text": [
      "[1, 2, 3, 4]\n"
     ]
    }
   ],
   "source": [
    "# from 2d list to 1d list flatten\n",
    "list_2D = [[1,2],[3,4]]\n",
    "list_1D =[]\n",
    "for i in list_2D:\n",
    "#     print(i)\n",
    "    for j in i:\n",
    "        list_1D.append(j)\n",
    "print(list_1D)"
   ]
  },
  {
   "cell_type": "code",
   "execution_count": 9,
   "metadata": {},
   "outputs": [
    {
     "data": {
      "text/plain": [
       "[1, 2, 3, 4]"
      ]
     },
     "execution_count": 9,
     "metadata": {},
     "output_type": "execute_result"
    }
   ],
   "source": [
    "# another way of doing that is using numpy collectable importing array\n",
    "from numpy import array\n",
    "l = array(list_2D)\n",
    "list1 = list(l.flatten())     # flatten function used to flat 2d or 3d list to a single list by using array function\n",
    "list1"
   ]
  },
  {
   "cell_type": "code",
   "execution_count": 12,
   "metadata": {},
   "outputs": [
    {
     "data": {
      "text/plain": [
       "array([1, 2, 3, 4])"
      ]
     },
     "execution_count": 12,
     "metadata": {},
     "output_type": "execute_result"
    }
   ],
   "source": [
    "l.flatten()"
   ]
  },
  {
   "cell_type": "markdown",
   "metadata": {},
   "source": [
    "### find the second smallest number in a list"
   ]
  },
  {
   "cell_type": "code",
   "execution_count": 17,
   "metadata": {},
   "outputs": [
    {
     "name": "stdout",
     "output_type": "stream",
     "text": [
      "Second Smallest: [6]\n"
     ]
    }
   ],
   "source": [
    "list_1 = [12,3,6,8,9]\n",
    "smalles_2 = sorted(list_1)[1:2]\n",
    "print(f'Second Smallest: {smalles_2}')"
   ]
  },
  {
   "cell_type": "markdown",
   "metadata": {},
   "source": [
    "### checking two lists are circularly identical or not"
   ]
  },
  {
   "cell_type": "code",
   "execution_count": 19,
   "metadata": {},
   "outputs": [
    {
     "name": "stdout",
     "output_type": "stream",
     "text": [
      "checking list1 and list2 for identical or not>\n",
      "Identical\n",
      "\n",
      "Checking list2 and list3\n",
      "Not Identical\n"
     ]
    }
   ],
   "source": [
    "list1 = [10, 10, 0, 0, 10] \n",
    "list2 = [10, 10, 10, 0, 0] \n",
    "list3 = [1, 10, 10, 0, 0]\n",
    "# using map function we can do this work aslo and join function do the next\n",
    "# map fuction takes (fuction, list or dict or other objects)\n",
    "#join fuction do the join operation with str and ''\n",
    "print('checking list1 and list2 for identical or not>')\n",
    "if ''.join(map(str, list2)) in ''.join(map(str,list2)):\n",
    "    print('Identical')\n",
    "else:\n",
    "    print('Not Identical')\n",
    "print()\n",
    "print('Checking list2 and list3')\n",
    "if ''.join(map(str, list3)) in ''.join(map(str,list2)):\n",
    "    print('Identical')\n",
    "else:\n",
    "    print('Not Identical')"
   ]
  },
  {
   "cell_type": "markdown",
   "metadata": {},
   "source": [
    "#### another way for checking the circularly identical"
   ]
  },
  {
   "cell_type": "code",
   "execution_count": 22,
   "metadata": {},
   "outputs": [
    {
     "name": "stdout",
     "output_type": "stream",
     "text": [
      "Identical\n",
      "\n",
      "Not Identical\n"
     ]
    }
   ],
   "source": [
    "def checking(list1,list2):\n",
    "    list1.extend(list1)\n",
    "    for i in range(len(list1)):\n",
    "        if list2==list1[i:i+len(list2)]:\n",
    "            return True\n",
    "    return False\n",
    "    \n",
    "list1 = [10, 10, 0, 0, 10] \n",
    "list2 = [10, 10, 10, 0, 0] \n",
    "list3 = [1, 10, 10, 0, 0]\n",
    "\n",
    "if checking(list1,list2):\n",
    "    print('Identical')\n",
    "else:\n",
    "    print('Not Identical')\n",
    "print()\n",
    "if checking(list2,list3):\n",
    "    print('Identical')\n",
    "else:\n",
    "    print('Not Identical')"
   ]
  },
  {
   "cell_type": "markdown",
   "metadata": {},
   "source": [
    "## Difference between the two lists"
   ]
  },
  {
   "cell_type": "code",
   "execution_count": 29,
   "metadata": {},
   "outputs": [
    {
     "data": {
      "text/plain": [
       "[3, 5, 9, 2, 4, 6, 8]"
      ]
     },
     "execution_count": 29,
     "metadata": {},
     "output_type": "execute_result"
    }
   ],
   "source": [
    "list1 = [1, 3, 5, 7, 9]\n",
    "list2=[1, 2, 4, 6, 7, 8]\n",
    "list3=[]\n",
    "for i in (list1+list2):\n",
    "    if i not in list2 or i not in list1:\n",
    "        list3.append(i)\n",
    "list3"
   ]
  },
  {
   "cell_type": "code",
   "execution_count": 27,
   "metadata": {},
   "outputs": [
    {
     "data": {
      "text/plain": [
       "[1, 3, 5, 7, 9, 1, 2, 4, 6, 7, 8]"
      ]
     },
     "execution_count": 27,
     "metadata": {},
     "output_type": "execute_result"
    }
   ],
   "source": [
    "list1+list2"
   ]
  },
  {
   "cell_type": "markdown",
   "metadata": {},
   "source": [
    "### generate all sublists of a list"
   ]
  },
  {
   "cell_type": "code",
   "execution_count": 31,
   "metadata": {},
   "outputs": [
    {
     "name": "stdout",
     "output_type": "stream",
     "text": [
      "[1]\n",
      "[1, 3]\n",
      "[1, 3, 5]\n",
      "[1, 3, 5, 7]\n",
      "[1, 3, 5, 7, 9]\n",
      "[3]\n",
      "[3, 5]\n",
      "[3, 5, 7]\n",
      "[3, 5, 7, 9]\n",
      "[5]\n",
      "[5, 7]\n",
      "[5, 7, 9]\n",
      "[7]\n",
      "[7, 9]\n",
      "[9]\n"
     ]
    }
   ],
   "source": [
    "list1 = [1, 3, 5, 7, 9]\n",
    "for i in range(len(list1)+1):\n",
    "    for j in range(i,len(list1)):\n",
    "        print(list1[i:j+1])"
   ]
  },
  {
   "cell_type": "markdown",
   "metadata": {},
   "source": [
    "### picking a random number from a range of list"
   ]
  },
  {
   "cell_type": "code",
   "execution_count": 42,
   "metadata": {},
   "outputs": [
    {
     "name": "stdout",
     "output_type": "stream",
     "text": [
      "96\n"
     ]
    }
   ],
   "source": [
    "from random import randint\n",
    "list1 = list(range(40,100))\n",
    "r_num = randint(40,80)\n",
    "print(list1[r_num])"
   ]
  },
  {
   "cell_type": "markdown",
   "metadata": {},
   "source": [
    "### concatenating a given list which range goes from 1 to n=5"
   ]
  },
  {
   "cell_type": "code",
   "execution_count": 1,
   "metadata": {},
   "outputs": [
    {
     "data": {
      "text/plain": [
       "['p1', 'q1', 'p2', 'q2', 'p3', 'q3', 'p4', 'q4', 'p5', 'q5']"
      ]
     },
     "execution_count": 1,
     "metadata": {},
     "output_type": "execute_result"
    }
   ],
   "source": [
    "list1 = ['p','q']\n",
    "n=5\n",
    "s=\"\"\n",
    "lst = []\n",
    "for i in range(1,n+1):\n",
    "    for j in list1:\n",
    "        s=(j+str(i))\n",
    "        lst.append(s)\n",
    "#         s+=''.join(j+str(i))\n",
    "#         print([s])\n",
    "lst"
   ]
  },
  {
   "cell_type": "code",
   "execution_count": 78,
   "metadata": {},
   "outputs": [
    {
     "data": {
      "text/plain": [
       "['p1', 'q1', 'p2', 'q2', 'p3', 'q3', 'p4', 'q4', 'p5', 'q5']"
      ]
     },
     "execution_count": 78,
     "metadata": {},
     "output_type": "execute_result"
    }
   ],
   "source": [
    "n = [ j+str(i) for i in range(1,n+1) for j in list1]\n",
    "n"
   ]
  },
  {
   "cell_type": "markdown",
   "metadata": {},
   "source": [
    "### convert list to list of dictionaries"
   ]
  },
  {
   "cell_type": "code",
   "execution_count": 83,
   "metadata": {},
   "outputs": [
    {
     "name": "stdout",
     "output_type": "stream",
     "text": [
      "[{'color_name': 'Black', 'color_code': '#000000'}, {'color_name': 'Red', 'color_code': '#FF0000'}, {'color_name': 'Maroon', 'color_code': '#800000'}, {'color_name': 'Yellow', 'color_code': '#FFFF00'}]\n"
     ]
    }
   ],
   "source": [
    "color_name = [\"Black\", \"Red\", \"Maroon\", \"Yellow\"]\n",
    "color_code = [\"#000000\", \"#FF0000\", \"#800000\", \"#FFFF00\"]\n",
    "dct={}\n",
    "lst=[]\n",
    "for i in range(len(color_name)):\n",
    "    dct[\"color_name\"]=color_name[i]\n",
    "    dct[\"color_code\"]=color_code[i]\n",
    "    lst.append(dct)\n",
    "    dct={}\n",
    "print(lst)"
   ]
  },
  {
   "cell_type": "code",
   "execution_count": 84,
   "metadata": {},
   "outputs": [
    {
     "data": {
      "text/plain": [
       "[{'color_name': 'Black', 'color_code': '#000000'},\n",
       " {'color_name': 'Red', 'color_code': '#FF0000'},\n",
       " {'color_name': 'Maroon', 'color_code': '#800000'},\n",
       " {'color_name': 'Yellow', 'color_code': '#FFFF00'}]"
      ]
     },
     "execution_count": 84,
     "metadata": {},
     "output_type": "execute_result"
    }
   ],
   "source": [
    "lst"
   ]
  },
  {
   "cell_type": "markdown",
   "metadata": {},
   "source": [
    "##### above program using zip function "
   ]
  },
  {
   "cell_type": "code",
   "execution_count": 86,
   "metadata": {},
   "outputs": [
    {
     "data": {
      "text/plain": [
       "[{'color_name': 'Black', 'color_code': '#000000'},\n",
       " {'color_name': 'Red', 'color_code': '#FF0000'},\n",
       " {'color_name': 'Maroon', 'color_code': '#800000'},\n",
       " {'color_name': 'Yellow', 'color_code': '#FFFF00'}]"
      ]
     },
     "execution_count": 86,
     "metadata": {},
     "output_type": "execute_result"
    }
   ],
   "source": [
    "# zip function zipping two list into one or should we say it take iterable object or lists\n",
    "lst2 = []\n",
    "for i, j in zip(color_name,color_code):\n",
    "    lst2.append({\"color_name\":i, \"color_code\":j})\n",
    "lst2"
   ]
  },
  {
   "cell_type": "markdown",
   "metadata": {},
   "source": [
    "## from Dictionary questions"
   ]
  },
  {
   "cell_type": "markdown",
   "metadata": {},
   "source": [
    "#### class doubt questions answer work"
   ]
  },
  {
   "cell_type": "markdown",
   "metadata": {},
   "source": [
    "### combine two dictionary adding values for common keys"
   ]
  },
  {
   "cell_type": "markdown",
   "metadata": {},
   "source": [
    "#### we can do this using Counter"
   ]
  },
  {
   "cell_type": "code",
   "execution_count": 87,
   "metadata": {},
   "outputs": [
    {
     "name": "stdout",
     "output_type": "stream",
     "text": [
      "Counter({'b': 400, 'a': 200, 'c': 200, 'd': 120, 'f': 100})\n"
     ]
    }
   ],
   "source": [
    "from collections import Counter\n",
    "d1 = {'a':100,'b':200,'c':100,'f':100}\n",
    "d2= {'a':100,'b':200,'c':100,'d':120}\n",
    "n_d1 = Counter(d1)\n",
    "n_d2 = Counter(d2)\n",
    "add_d1_d2 = n_d1+n_d2\n",
    "print(add_d1_d2)"
   ]
  },
  {
   "cell_type": "markdown",
   "metadata": {},
   "source": [
    "#### another way of doing above program"
   ]
  },
  {
   "cell_type": "code",
   "execution_count": 96,
   "metadata": {},
   "outputs": [
    {
     "name": "stdout",
     "output_type": "stream",
     "text": [
      "{'a': 200, 'b': 400, 'c': 200, 'f': 100, 'd': 120}\n"
     ]
    }
   ],
   "source": [
    "n_d3 = {}\n",
    "for i in d1:\n",
    "    if i in d2.keys():\n",
    "        n_d3[i]=d1[i]+d2[i]\n",
    "    else:\n",
    "        n_d3[i]=d1[i]\n",
    "\n",
    "for i in d2:\n",
    "    if i not in d1.keys():\n",
    "        n_d3[i]=d2[i]\n",
    "        \n",
    "print(n_d3)"
   ]
  },
  {
   "cell_type": "markdown",
   "metadata": {},
   "source": [
    "### create and display all combinations of letters,selecting each letter from a different key in a dictionary.\n",
    "### Sample data : {'1':['a','b'], '2':['c','d']} \n",
    "### Expected Output: ac ad bc bd"
   ]
  },
  {
   "cell_type": "markdown",
   "metadata": {},
   "source": [
    "##### using itertools i am doing this code"
   ]
  },
  {
   "cell_type": "code",
   "execution_count": 99,
   "metadata": {},
   "outputs": [
    {
     "name": "stdout",
     "output_type": "stream",
     "text": [
      "ac\n",
      "ad\n",
      "bc\n",
      "bd\n"
     ]
    }
   ],
   "source": [
    "from itertools import product\n",
    "dct={'1':['a','b'], '2':['c','d']} \n",
    "dct_val= dct.values()\n",
    "for item in product(*dct_val):\n",
    "    print(''.join(item))"
   ]
  },
  {
   "cell_type": "markdown",
   "metadata": {},
   "source": [
    "### find the highest 3 values of corresponding keys in a dictionary"
   ]
  },
  {
   "cell_type": "markdown",
   "metadata": {},
   "source": [
    "##### using Counter i can do the code counter count the key and value corresponding \n",
    "#### and from counter using most_common fuction or method to get higest 3 from big to low"
   ]
  },
  {
   "cell_type": "code",
   "execution_count": 103,
   "metadata": {},
   "outputs": [
    {
     "name": "stdout",
     "output_type": "stream",
     "text": [
      "[('b', 5874), ('e', 5874), ('a', 600)]\n"
     ]
    }
   ],
   "source": [
    "from collections import Counter\n",
    "my_dict = {'a':600, 'b':5874, 'c': 560,'d':400, 'e':5874, 'f': 20}\n",
    "n_dct = Counter(my_dict)\n",
    "high =n_dct.most_common(3)\n",
    "print(high)    "
   ]
  },
  {
   "cell_type": "code",
   "execution_count": 104,
   "metadata": {},
   "outputs": [
    {
     "name": "stdout",
     "output_type": "stream",
     "text": [
      "{'b': 5874, 'e': 5874, 'a': 600}\n"
     ]
    }
   ],
   "source": [
    "# we can see output show us a list of tupples that the return from most_common function\n",
    "# now we can iterate over high to print the highest 3 into a dictionary\n",
    "dic ={}\n",
    "for i,j in high:\n",
    "    dic[i]=j\n",
    "print(dic)"
   ]
  },
  {
   "cell_type": "markdown",
   "metadata": {},
   "source": [
    "#### another way of doing it "
   ]
  },
  {
   "cell_type": "code",
   "execution_count": 4,
   "metadata": {},
   "outputs": [
    {
     "name": "stdout",
     "output_type": "stream",
     "text": [
      "{'a': 600, 'b': 5874, 'e': 5874}\n"
     ]
    }
   ],
   "source": [
    "my_dict = {'a':600, 'b':5874, 'c': 560,'d':400, 'e':5874, 'f': 20}\n",
    "dict_val = my_dict.values()\n",
    "s = sorted(dict_val)[-3:]\n",
    "dict1 ={}\n",
    "for i in my_dict:\n",
    "#     print(my_dict[i])\n",
    "#     print(i)\n",
    "    for j in s:\n",
    "        if my_dict[i]==j:\n",
    "            dict1[i]=j\n",
    "print(dict1)"
   ]
  },
  {
   "cell_type": "code",
   "execution_count": null,
   "metadata": {},
   "outputs": [],
   "source": []
  }
 ],
 "metadata": {
  "kernelspec": {
   "display_name": "Python 3",
   "language": "python",
   "name": "python3"
  },
  "language_info": {
   "codemirror_mode": {
    "name": "ipython",
    "version": 3
   },
   "file_extension": ".py",
   "mimetype": "text/x-python",
   "name": "python",
   "nbconvert_exporter": "python",
   "pygments_lexer": "ipython3",
   "version": "3.8.5"
  },
  "toc": {
   "base_numbering": 1,
   "nav_menu": {},
   "number_sections": false,
   "sideBar": true,
   "skip_h1_title": false,
   "title_cell": "Table of Contents",
   "title_sidebar": "Contents",
   "toc_cell": false,
   "toc_position": {},
   "toc_section_display": true,
   "toc_window_display": false
  }
 },
 "nbformat": 4,
 "nbformat_minor": 4
}
